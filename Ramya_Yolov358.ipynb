{
  "metadata": {
    "kaggle": {
      "accelerator": "gpu",
      "dataSources": [
        {
          "sourceId": 1203932,
          "sourceType": "datasetVersion",
          "datasetId": 686454
        }
      ],
      "dockerImageVersionId": 30673,
      "isInternetEnabled": true,
      "language": "python",
      "sourceType": "notebook",
      "isGpuEnabled": true
    },
    "kernelspec": {
      "display_name": "Python 3",
      "language": "python",
      "name": "python3"
    },
    "language_info": {
      "codemirror_mode": {
        "name": "ipython",
        "version": 3
      },
      "file_extension": ".py",
      "mimetype": "text/x-python",
      "name": "python",
      "nbconvert_exporter": "python",
      "pygments_lexer": "ipython3",
      "version": "3.10.13"
    },
    "colab": {
      "name": "Ramya_Yolov358",
      "provenance": [],
      "include_colab_link": true
    }
  },
  "nbformat_minor": 0,
  "nbformat": 4,
  "cells": [
    {
      "cell_type": "markdown",
      "metadata": {
        "id": "view-in-github",
        "colab_type": "text"
      },
      "source": [
        "<a href=\"https://colab.research.google.com/github/RamyaReddy13/SWEETY/blob/main/Ramya_Yolov358.ipynb\" target=\"_parent\"><img src=\"https://colab.research.google.com/assets/colab-badge.svg\" alt=\"Open In Colab\"/></a>"
      ]
    },
    {
      "source": [
        "\n",
        "# IMPORTANT: RUN THIS CELL IN ORDER TO IMPORT YOUR KAGGLE DATA SOURCES\n",
        "# TO THE CORRECT LOCATION (/kaggle/input) IN YOUR NOTEBOOK,\n",
        "# THEN FEEL FREE TO DELETE THIS CELL.\n",
        "# NOTE: THIS NOTEBOOK ENVIRONMENT DIFFERS FROM KAGGLE'S PYTHON\n",
        "# ENVIRONMENT SO THERE MAY BE MISSING LIBRARIES USED BY YOUR\n",
        "# NOTEBOOK.\n",
        "\n",
        "import os\n",
        "import sys\n",
        "from tempfile import NamedTemporaryFile\n",
        "from urllib.request import urlopen\n",
        "from urllib.parse import unquote, urlparse\n",
        "from urllib.error import HTTPError\n",
        "from zipfile import ZipFile\n",
        "import tarfile\n",
        "import shutil\n",
        "\n",
        "CHUNK_SIZE = 40960\n",
        "DATA_SOURCE_MAPPING = 'car-plate-detection:https%3A%2F%2Fstorage.googleapis.com%2Fkaggle-data-sets%2F686454%2F1203932%2Fbundle%2Farchive.zip%3FX-Goog-Algorithm%3DGOOG4-RSA-SHA256%26X-Goog-Credential%3Dgcp-kaggle-com%2540kaggle-161607.iam.gserviceaccount.com%252F20240410%252Fauto%252Fstorage%252Fgoog4_request%26X-Goog-Date%3D20240410T182833Z%26X-Goog-Expires%3D259200%26X-Goog-SignedHeaders%3Dhost%26X-Goog-Signature%3D59a28d968e5de6d20752688e9696f68d44919b3909700e189bf41df372dd0ca304f345fbe09afcd13f583fd864c36e1a2ddc283f706fa729bafaefab858b2cf3461ef8307a1c59177ee14c1a9124e422a894d93fd0d194585533548df582cd9ef87732f009b276f54b20f9d8bd541175baf94168c272327331151ca9eae1e34f7678b50017f1cb7ed257f4ec09b56d286fb55d20d7414329949cd3765d5c62688c0437d281693bfa8dde6bb2aa70d44b59c57f94c333eaa3837c659b816ae942e95e05d883f191ea04e1b42f82345e8d9a1be3cb062d620be8ac37a6db17ba2abd1e9399752901ceb1dfa496385211dccb332d37f0ed5e525d5483bc55aa91a7'\n",
        "\n",
        "KAGGLE_INPUT_PATH='/kaggle/input'\n",
        "KAGGLE_WORKING_PATH='/kaggle/working'\n",
        "KAGGLE_SYMLINK='kaggle'\n",
        "\n",
        "!umount /kaggle/input/ 2> /dev/null\n",
        "shutil.rmtree('/kaggle/input', ignore_errors=True)\n",
        "os.makedirs(KAGGLE_INPUT_PATH, 0o777, exist_ok=True)\n",
        "os.makedirs(KAGGLE_WORKING_PATH, 0o777, exist_ok=True)\n",
        "\n",
        "try:\n",
        "  os.symlink(KAGGLE_INPUT_PATH, os.path.join(\"..\", 'input'), target_is_directory=True)\n",
        "except FileExistsError:\n",
        "  pass\n",
        "try:\n",
        "  os.symlink(KAGGLE_WORKING_PATH, os.path.join(\"..\", 'working'), target_is_directory=True)\n",
        "except FileExistsError:\n",
        "  pass\n",
        "\n",
        "for data_source_mapping in DATA_SOURCE_MAPPING.split(','):\n",
        "    directory, download_url_encoded = data_source_mapping.split(':')\n",
        "    download_url = unquote(download_url_encoded)\n",
        "    filename = urlparse(download_url).path\n",
        "    destination_path = os.path.join(KAGGLE_INPUT_PATH, directory)\n",
        "    try:\n",
        "        with urlopen(download_url) as fileres, NamedTemporaryFile() as tfile:\n",
        "            total_length = fileres.headers['content-length']\n",
        "            print(f'Downloading {directory}, {total_length} bytes compressed')\n",
        "            dl = 0\n",
        "            data = fileres.read(CHUNK_SIZE)\n",
        "            while len(data) > 0:\n",
        "                dl += len(data)\n",
        "                tfile.write(data)\n",
        "                done = int(50 * dl / int(total_length))\n",
        "                sys.stdout.write(f\"\\r[{'=' * done}{' ' * (50-done)}] {dl} bytes downloaded\")\n",
        "                sys.stdout.flush()\n",
        "                data = fileres.read(CHUNK_SIZE)\n",
        "            if filename.endswith('.zip'):\n",
        "              with ZipFile(tfile) as zfile:\n",
        "                zfile.extractall(destination_path)\n",
        "            else:\n",
        "              with tarfile.open(tfile.name) as tarfile:\n",
        "                tarfile.extractall(destination_path)\n",
        "            print(f'\\nDownloaded and uncompressed: {directory}')\n",
        "    except HTTPError as e:\n",
        "        print(f'Failed to load (likely expired) {download_url} to path {destination_path}')\n",
        "        continue\n",
        "    except OSError as e:\n",
        "        print(f'Failed to load {download_url} to path {destination_path}')\n",
        "        continue\n",
        "\n",
        "print('Data source import complete.')\n"
      ],
      "metadata": {
        "id": "UTP_Z2tiRNey"
      },
      "cell_type": "code",
      "outputs": [],
      "execution_count": null
    },
    {
      "cell_type": "code",
      "source": [
        "#installing pylable for annotation generation\n",
        "!pip install matplotlib\n",
        "!pip install pylabel"
      ],
      "metadata": {
        "_cell_guid": "b1076dfc-b9ad-4769-8c92-a6c4dae69d19",
        "_uuid": "8f2839f25d086af736a60e9eeb907d3b93b6e0e5",
        "execution": {
          "iopub.status.busy": "2024-04-08T18:28:53.293614Z",
          "iopub.execute_input": "2024-04-08T18:28:53.29405Z",
          "iopub.status.idle": "2024-04-08T18:29:18.817601Z",
          "shell.execute_reply.started": "2024-04-08T18:28:53.294007Z",
          "shell.execute_reply": "2024-04-08T18:29:18.816606Z"
        },
        "trusted": true,
        "id": "vI6Epa0oRNe1",
        "outputId": "fe701da5-c0a2-4fb6-c90e-6ef6ac66f5b9"
      },
      "execution_count": null,
      "outputs": [
        {
          "name": "stdout",
          "text": "Requirement already satisfied: matplotlib in /opt/conda/lib/python3.10/site-packages (3.7.5)\nRequirement already satisfied: contourpy>=1.0.1 in /opt/conda/lib/python3.10/site-packages (from matplotlib) (1.2.0)\nRequirement already satisfied: cycler>=0.10 in /opt/conda/lib/python3.10/site-packages (from matplotlib) (0.12.1)\nRequirement already satisfied: fonttools>=4.22.0 in /opt/conda/lib/python3.10/site-packages (from matplotlib) (4.47.0)\nRequirement already satisfied: kiwisolver>=1.0.1 in /opt/conda/lib/python3.10/site-packages (from matplotlib) (1.4.5)\nRequirement already satisfied: numpy<2,>=1.20 in /opt/conda/lib/python3.10/site-packages (from matplotlib) (1.26.4)\nRequirement already satisfied: packaging>=20.0 in /opt/conda/lib/python3.10/site-packages (from matplotlib) (21.3)\nRequirement already satisfied: pillow>=6.2.0 in /opt/conda/lib/python3.10/site-packages (from matplotlib) (9.5.0)\nRequirement already satisfied: pyparsing>=2.3.1 in /opt/conda/lib/python3.10/site-packages (from matplotlib) (3.1.1)\nRequirement already satisfied: python-dateutil>=2.7 in /opt/conda/lib/python3.10/site-packages (from matplotlib) (2.9.0.post0)\nRequirement already satisfied: six>=1.5 in /opt/conda/lib/python3.10/site-packages (from python-dateutil>=2.7->matplotlib) (1.16.0)\nRequirement already satisfied: pylabel in /opt/conda/lib/python3.10/site-packages (0.1.55)\nRequirement already satisfied: pandas in /opt/conda/lib/python3.10/site-packages (from pylabel) (2.1.4)\nRequirement already satisfied: bbox-visualizer in /opt/conda/lib/python3.10/site-packages (from pylabel) (0.1.0)\nRequirement already satisfied: matplotlib in /opt/conda/lib/python3.10/site-packages (from pylabel) (3.7.5)\nRequirement already satisfied: opencv-python in /opt/conda/lib/python3.10/site-packages (from pylabel) (4.9.0.80)\nRequirement already satisfied: scikit-learn in /opt/conda/lib/python3.10/site-packages (from pylabel) (1.2.2)\nRequirement already satisfied: jupyter-bbox-widget in /opt/conda/lib/python3.10/site-packages (from pylabel) (0.5.0)\nRequirement already satisfied: pyyaml in /opt/conda/lib/python3.10/site-packages (from pylabel) (6.0.1)\nRequirement already satisfied: tqdm in /opt/conda/lib/python3.10/site-packages (from pylabel) (4.66.1)\nRequirement already satisfied: ipywidgets>=7.0.0 in /opt/conda/lib/python3.10/site-packages (from jupyter-bbox-widget->pylabel) (7.7.1)\nRequirement already satisfied: contourpy>=1.0.1 in /opt/conda/lib/python3.10/site-packages (from matplotlib->pylabel) (1.2.0)\nRequirement already satisfied: cycler>=0.10 in /opt/conda/lib/python3.10/site-packages (from matplotlib->pylabel) (0.12.1)\nRequirement already satisfied: fonttools>=4.22.0 in /opt/conda/lib/python3.10/site-packages (from matplotlib->pylabel) (4.47.0)\nRequirement already satisfied: kiwisolver>=1.0.1 in /opt/conda/lib/python3.10/site-packages (from matplotlib->pylabel) (1.4.5)\nRequirement already satisfied: numpy<2,>=1.20 in /opt/conda/lib/python3.10/site-packages (from matplotlib->pylabel) (1.26.4)\nRequirement already satisfied: packaging>=20.0 in /opt/conda/lib/python3.10/site-packages (from matplotlib->pylabel) (21.3)\nRequirement already satisfied: pillow>=6.2.0 in /opt/conda/lib/python3.10/site-packages (from matplotlib->pylabel) (9.5.0)\nRequirement already satisfied: pyparsing>=2.3.1 in /opt/conda/lib/python3.10/site-packages (from matplotlib->pylabel) (3.1.1)\nRequirement already satisfied: python-dateutil>=2.7 in /opt/conda/lib/python3.10/site-packages (from matplotlib->pylabel) (2.9.0.post0)\nRequirement already satisfied: pytz>=2020.1 in /opt/conda/lib/python3.10/site-packages (from pandas->pylabel) (2023.3.post1)\nRequirement already satisfied: tzdata>=2022.1 in /opt/conda/lib/python3.10/site-packages (from pandas->pylabel) (2023.4)\nRequirement already satisfied: scipy>=1.3.2 in /opt/conda/lib/python3.10/site-packages (from scikit-learn->pylabel) (1.11.4)\nRequirement already satisfied: joblib>=1.1.1 in /opt/conda/lib/python3.10/site-packages (from scikit-learn->pylabel) (1.3.2)\nRequirement already satisfied: threadpoolctl>=2.0.0 in /opt/conda/lib/python3.10/site-packages (from scikit-learn->pylabel) (3.2.0)\nRequirement already satisfied: ipykernel>=4.5.1 in /opt/conda/lib/python3.10/site-packages (from ipywidgets>=7.0.0->jupyter-bbox-widget->pylabel) (6.28.0)\nRequirement already satisfied: ipython-genutils~=0.2.0 in /opt/conda/lib/python3.10/site-packages (from ipywidgets>=7.0.0->jupyter-bbox-widget->pylabel) (0.2.0)\nRequirement already satisfied: traitlets>=4.3.1 in /opt/conda/lib/python3.10/site-packages (from ipywidgets>=7.0.0->jupyter-bbox-widget->pylabel) (5.9.0)\nRequirement already satisfied: widgetsnbextension~=3.6.0 in /opt/conda/lib/python3.10/site-packages (from ipywidgets>=7.0.0->jupyter-bbox-widget->pylabel) (3.6.6)\nRequirement already satisfied: ipython>=4.0.0 in /opt/conda/lib/python3.10/site-packages (from ipywidgets>=7.0.0->jupyter-bbox-widget->pylabel) (8.20.0)\nRequirement already satisfied: jupyterlab-widgets>=1.0.0 in /opt/conda/lib/python3.10/site-packages (from ipywidgets>=7.0.0->jupyter-bbox-widget->pylabel) (3.0.9)\nRequirement already satisfied: six>=1.5 in /opt/conda/lib/python3.10/site-packages (from python-dateutil>=2.7->matplotlib->pylabel) (1.16.0)\nRequirement already satisfied: comm>=0.1.1 in /opt/conda/lib/python3.10/site-packages (from ipykernel>=4.5.1->ipywidgets>=7.0.0->jupyter-bbox-widget->pylabel) (0.2.1)\nRequirement already satisfied: debugpy>=1.6.5 in /opt/conda/lib/python3.10/site-packages (from ipykernel>=4.5.1->ipywidgets>=7.0.0->jupyter-bbox-widget->pylabel) (1.8.0)\nRequirement already satisfied: jupyter-client>=6.1.12 in /opt/conda/lib/python3.10/site-packages (from ipykernel>=4.5.1->ipywidgets>=7.0.0->jupyter-bbox-widget->pylabel) (7.4.9)\nRequirement already satisfied: jupyter-core!=5.0.*,>=4.12 in /opt/conda/lib/python3.10/site-packages (from ipykernel>=4.5.1->ipywidgets>=7.0.0->jupyter-bbox-widget->pylabel) (5.7.1)\nRequirement already satisfied: matplotlib-inline>=0.1 in /opt/conda/lib/python3.10/site-packages (from ipykernel>=4.5.1->ipywidgets>=7.0.0->jupyter-bbox-widget->pylabel) (0.1.6)\nRequirement already satisfied: nest-asyncio in /opt/conda/lib/python3.10/site-packages (from ipykernel>=4.5.1->ipywidgets>=7.0.0->jupyter-bbox-widget->pylabel) (1.5.8)\nRequirement already satisfied: psutil in /opt/conda/lib/python3.10/site-packages (from ipykernel>=4.5.1->ipywidgets>=7.0.0->jupyter-bbox-widget->pylabel) (5.9.3)\nRequirement already satisfied: pyzmq>=24 in /opt/conda/lib/python3.10/site-packages (from ipykernel>=4.5.1->ipywidgets>=7.0.0->jupyter-bbox-widget->pylabel) (24.0.1)\nRequirement already satisfied: tornado>=6.1 in /opt/conda/lib/python3.10/site-packages (from ipykernel>=4.5.1->ipywidgets>=7.0.0->jupyter-bbox-widget->pylabel) (6.3.3)\nRequirement already satisfied: decorator in /opt/conda/lib/python3.10/site-packages (from ipython>=4.0.0->ipywidgets>=7.0.0->jupyter-bbox-widget->pylabel) (5.1.1)\nRequirement already satisfied: jedi>=0.16 in /opt/conda/lib/python3.10/site-packages (from ipython>=4.0.0->ipywidgets>=7.0.0->jupyter-bbox-widget->pylabel) (0.19.1)\nRequirement already satisfied: prompt-toolkit<3.1.0,>=3.0.41 in /opt/conda/lib/python3.10/site-packages (from ipython>=4.0.0->ipywidgets>=7.0.0->jupyter-bbox-widget->pylabel) (3.0.42)\nRequirement already satisfied: pygments>=2.4.0 in /opt/conda/lib/python3.10/site-packages (from ipython>=4.0.0->ipywidgets>=7.0.0->jupyter-bbox-widget->pylabel) (2.17.2)\nRequirement already satisfied: stack-data in /opt/conda/lib/python3.10/site-packages (from ipython>=4.0.0->ipywidgets>=7.0.0->jupyter-bbox-widget->pylabel) (0.6.2)\nRequirement already satisfied: exceptiongroup in /opt/conda/lib/python3.10/site-packages (from ipython>=4.0.0->ipywidgets>=7.0.0->jupyter-bbox-widget->pylabel) (1.2.0)\nRequirement already satisfied: pexpect>4.3 in /opt/conda/lib/python3.10/site-packages (from ipython>=4.0.0->ipywidgets>=7.0.0->jupyter-bbox-widget->pylabel) (4.8.0)\nRequirement already satisfied: notebook>=4.4.1 in /opt/conda/lib/python3.10/site-packages (from widgetsnbextension~=3.6.0->ipywidgets>=7.0.0->jupyter-bbox-widget->pylabel) (6.5.4)\nRequirement already satisfied: parso<0.9.0,>=0.8.3 in /opt/conda/lib/python3.10/site-packages (from jedi>=0.16->ipython>=4.0.0->ipywidgets>=7.0.0->jupyter-bbox-widget->pylabel) (0.8.3)\nRequirement already satisfied: entrypoints in /opt/conda/lib/python3.10/site-packages (from jupyter-client>=6.1.12->ipykernel>=4.5.1->ipywidgets>=7.0.0->jupyter-bbox-widget->pylabel) (0.4)\nRequirement already satisfied: platformdirs>=2.5 in /opt/conda/lib/python3.10/site-packages (from jupyter-core!=5.0.*,>=4.12->ipykernel>=4.5.1->ipywidgets>=7.0.0->jupyter-bbox-widget->pylabel) (4.2.0)\nRequirement already satisfied: jinja2 in /opt/conda/lib/python3.10/site-packages (from notebook>=4.4.1->widgetsnbextension~=3.6.0->ipywidgets>=7.0.0->jupyter-bbox-widget->pylabel) (3.1.2)\nRequirement already satisfied: argon2-cffi in /opt/conda/lib/python3.10/site-packages (from notebook>=4.4.1->widgetsnbextension~=3.6.0->ipywidgets>=7.0.0->jupyter-bbox-widget->pylabel) (23.1.0)\nRequirement already satisfied: nbformat in /opt/conda/lib/python3.10/site-packages (from notebook>=4.4.1->widgetsnbextension~=3.6.0->ipywidgets>=7.0.0->jupyter-bbox-widget->pylabel) (5.9.2)\nRequirement already satisfied: nbconvert>=5 in /opt/conda/lib/python3.10/site-packages (from notebook>=4.4.1->widgetsnbextension~=3.6.0->ipywidgets>=7.0.0->jupyter-bbox-widget->pylabel) (6.4.5)\nRequirement already satisfied: Send2Trash>=1.8.0 in /opt/conda/lib/python3.10/site-packages (from notebook>=4.4.1->widgetsnbextension~=3.6.0->ipywidgets>=7.0.0->jupyter-bbox-widget->pylabel) (1.8.2)\nRequirement already satisfied: terminado>=0.8.3 in /opt/conda/lib/python3.10/site-packages (from notebook>=4.4.1->widgetsnbextension~=3.6.0->ipywidgets>=7.0.0->jupyter-bbox-widget->pylabel) (0.18.0)\nRequirement already satisfied: prometheus-client in /opt/conda/lib/python3.10/site-packages (from notebook>=4.4.1->widgetsnbextension~=3.6.0->ipywidgets>=7.0.0->jupyter-bbox-widget->pylabel) (0.19.0)\nRequirement already satisfied: nbclassic>=0.4.7 in /opt/conda/lib/python3.10/site-packages (from notebook>=4.4.1->widgetsnbextension~=3.6.0->ipywidgets>=7.0.0->jupyter-bbox-widget->pylabel) (1.0.0)\nRequirement already satisfied: ptyprocess>=0.5 in /opt/conda/lib/python3.10/site-packages (from pexpect>4.3->ipython>=4.0.0->ipywidgets>=7.0.0->jupyter-bbox-widget->pylabel) (0.7.0)\nRequirement already satisfied: wcwidth in /opt/conda/lib/python3.10/site-packages (from prompt-toolkit<3.1.0,>=3.0.41->ipython>=4.0.0->ipywidgets>=7.0.0->jupyter-bbox-widget->pylabel) (0.2.13)\nRequirement already satisfied: executing>=1.2.0 in /opt/conda/lib/python3.10/site-packages (from stack-data->ipython>=4.0.0->ipywidgets>=7.0.0->jupyter-bbox-widget->pylabel) (2.0.1)\nRequirement already satisfied: asttokens>=2.1.0 in /opt/conda/lib/python3.10/site-packages (from stack-data->ipython>=4.0.0->ipywidgets>=7.0.0->jupyter-bbox-widget->pylabel) (2.4.1)\nRequirement already satisfied: pure-eval in /opt/conda/lib/python3.10/site-packages (from stack-data->ipython>=4.0.0->ipywidgets>=7.0.0->jupyter-bbox-widget->pylabel) (0.2.2)\nRequirement already satisfied: jupyter-server>=1.8 in /opt/conda/lib/python3.10/site-packages (from nbclassic>=0.4.7->notebook>=4.4.1->widgetsnbextension~=3.6.0->ipywidgets>=7.0.0->jupyter-bbox-widget->pylabel) (2.13.0)\nRequirement already satisfied: notebook-shim>=0.2.3 in /opt/conda/lib/python3.10/site-packages (from nbclassic>=0.4.7->notebook>=4.4.1->widgetsnbextension~=3.6.0->ipywidgets>=7.0.0->jupyter-bbox-widget->pylabel) (0.2.3)\nRequirement already satisfied: mistune<2,>=0.8.1 in /opt/conda/lib/python3.10/site-packages (from nbconvert>=5->notebook>=4.4.1->widgetsnbextension~=3.6.0->ipywidgets>=7.0.0->jupyter-bbox-widget->pylabel) (0.8.4)\nRequirement already satisfied: jupyterlab-pygments in /opt/conda/lib/python3.10/site-packages (from nbconvert>=5->notebook>=4.4.1->widgetsnbextension~=3.6.0->ipywidgets>=7.0.0->jupyter-bbox-widget->pylabel) (0.3.0)\nRequirement already satisfied: bleach in /opt/conda/lib/python3.10/site-packages (from nbconvert>=5->notebook>=4.4.1->widgetsnbextension~=3.6.0->ipywidgets>=7.0.0->jupyter-bbox-widget->pylabel) (6.1.0)\nRequirement already satisfied: pandocfilters>=1.4.1 in /opt/conda/lib/python3.10/site-packages (from nbconvert>=5->notebook>=4.4.1->widgetsnbextension~=3.6.0->ipywidgets>=7.0.0->jupyter-bbox-widget->pylabel) (1.5.0)\nRequirement already satisfied: testpath in /opt/conda/lib/python3.10/site-packages (from nbconvert>=5->notebook>=4.4.1->widgetsnbextension~=3.6.0->ipywidgets>=7.0.0->jupyter-bbox-widget->pylabel) (0.6.0)\nRequirement already satisfied: defusedxml in /opt/conda/lib/python3.10/site-packages (from nbconvert>=5->notebook>=4.4.1->widgetsnbextension~=3.6.0->ipywidgets>=7.0.0->jupyter-bbox-widget->pylabel) (0.7.1)\nRequirement already satisfied: beautifulsoup4 in /opt/conda/lib/python3.10/site-packages (from nbconvert>=5->notebook>=4.4.1->widgetsnbextension~=3.6.0->ipywidgets>=7.0.0->jupyter-bbox-widget->pylabel) (4.12.2)\nRequirement already satisfied: nbclient<0.6.0,>=0.5.0 in /opt/conda/lib/python3.10/site-packages (from nbconvert>=5->notebook>=4.4.1->widgetsnbextension~=3.6.0->ipywidgets>=7.0.0->jupyter-bbox-widget->pylabel) (0.5.13)\nRequirement already satisfied: MarkupSafe>=2.0 in /opt/conda/lib/python3.10/site-packages (from nbconvert>=5->notebook>=4.4.1->widgetsnbextension~=3.6.0->ipywidgets>=7.0.0->jupyter-bbox-widget->pylabel) (2.1.3)\nRequirement already satisfied: fastjsonschema in /opt/conda/lib/python3.10/site-packages (from nbformat->notebook>=4.4.1->widgetsnbextension~=3.6.0->ipywidgets>=7.0.0->jupyter-bbox-widget->pylabel) (2.19.1)\nRequirement already satisfied: jsonschema>=2.6 in /opt/conda/lib/python3.10/site-packages (from nbformat->notebook>=4.4.1->widgetsnbextension~=3.6.0->ipywidgets>=7.0.0->jupyter-bbox-widget->pylabel) (4.20.0)\nRequirement already satisfied: argon2-cffi-bindings in /opt/conda/lib/python3.10/site-packages (from argon2-cffi->notebook>=4.4.1->widgetsnbextension~=3.6.0->ipywidgets>=7.0.0->jupyter-bbox-widget->pylabel) (21.2.0)\nRequirement already satisfied: attrs>=22.2.0 in /opt/conda/lib/python3.10/site-packages (from jsonschema>=2.6->nbformat->notebook>=4.4.1->widgetsnbextension~=3.6.0->ipywidgets>=7.0.0->jupyter-bbox-widget->pylabel) (23.2.0)\nRequirement already satisfied: jsonschema-specifications>=2023.03.6 in /opt/conda/lib/python3.10/site-packages (from jsonschema>=2.6->nbformat->notebook>=4.4.1->widgetsnbextension~=3.6.0->ipywidgets>=7.0.0->jupyter-bbox-widget->pylabel) (2023.12.1)\nRequirement already satisfied: referencing>=0.28.4 in /opt/conda/lib/python3.10/site-packages (from jsonschema>=2.6->nbformat->notebook>=4.4.1->widgetsnbextension~=3.6.0->ipywidgets>=7.0.0->jupyter-bbox-widget->pylabel) (0.32.1)\nRequirement already satisfied: rpds-py>=0.7.1 in /opt/conda/lib/python3.10/site-packages (from jsonschema>=2.6->nbformat->notebook>=4.4.1->widgetsnbextension~=3.6.0->ipywidgets>=7.0.0->jupyter-bbox-widget->pylabel) (0.16.2)\nRequirement already satisfied: anyio>=3.1.0 in /opt/conda/lib/python3.10/site-packages (from jupyter-server>=1.8->nbclassic>=0.4.7->notebook>=4.4.1->widgetsnbextension~=3.6.0->ipywidgets>=7.0.0->jupyter-bbox-widget->pylabel) (4.2.0)\nRequirement already satisfied: jupyter-events>=0.9.0 in /opt/conda/lib/python3.10/site-packages (from jupyter-server>=1.8->nbclassic>=0.4.7->notebook>=4.4.1->widgetsnbextension~=3.6.0->ipywidgets>=7.0.0->jupyter-bbox-widget->pylabel) (0.9.0)\nRequirement already satisfied: jupyter-server-terminals in /opt/conda/lib/python3.10/site-packages (from jupyter-server>=1.8->nbclassic>=0.4.7->notebook>=4.4.1->widgetsnbextension~=3.6.0->ipywidgets>=7.0.0->jupyter-bbox-widget->pylabel) (0.5.1)\nRequirement already satisfied: overrides in /opt/conda/lib/python3.10/site-packages (from jupyter-server>=1.8->nbclassic>=0.4.7->notebook>=4.4.1->widgetsnbextension~=3.6.0->ipywidgets>=7.0.0->jupyter-bbox-widget->pylabel) (7.4.0)\nRequirement already satisfied: websocket-client in /opt/conda/lib/python3.10/site-packages (from jupyter-server>=1.8->nbclassic>=0.4.7->notebook>=4.4.1->widgetsnbextension~=3.6.0->ipywidgets>=7.0.0->jupyter-bbox-widget->pylabel) (1.7.0)\nRequirement already satisfied: cffi>=1.0.1 in /opt/conda/lib/python3.10/site-packages (from argon2-cffi-bindings->argon2-cffi->notebook>=4.4.1->widgetsnbextension~=3.6.0->ipywidgets>=7.0.0->jupyter-bbox-widget->pylabel) (1.16.0)\nRequirement already satisfied: soupsieve>1.2 in /opt/conda/lib/python3.10/site-packages (from beautifulsoup4->nbconvert>=5->notebook>=4.4.1->widgetsnbextension~=3.6.0->ipywidgets>=7.0.0->jupyter-bbox-widget->pylabel) (2.5)\nRequirement already satisfied: webencodings in /opt/conda/lib/python3.10/site-packages (from bleach->nbconvert>=5->notebook>=4.4.1->widgetsnbextension~=3.6.0->ipywidgets>=7.0.0->jupyter-bbox-widget->pylabel) (0.5.1)\nRequirement already satisfied: idna>=2.8 in /opt/conda/lib/python3.10/site-packages (from anyio>=3.1.0->jupyter-server>=1.8->nbclassic>=0.4.7->notebook>=4.4.1->widgetsnbextension~=3.6.0->ipywidgets>=7.0.0->jupyter-bbox-widget->pylabel) (3.6)\nRequirement already satisfied: sniffio>=1.1 in /opt/conda/lib/python3.10/site-packages (from anyio>=3.1.0->jupyter-server>=1.8->nbclassic>=0.4.7->notebook>=4.4.1->widgetsnbextension~=3.6.0->ipywidgets>=7.0.0->jupyter-bbox-widget->pylabel) (1.3.0)\nRequirement already satisfied: typing-extensions>=4.1 in /opt/conda/lib/python3.10/site-packages (from anyio>=3.1.0->jupyter-server>=1.8->nbclassic>=0.4.7->notebook>=4.4.1->widgetsnbextension~=3.6.0->ipywidgets>=7.0.0->jupyter-bbox-widget->pylabel) (4.9.0)\nRequirement already satisfied: pycparser in /opt/conda/lib/python3.10/site-packages (from cffi>=1.0.1->argon2-cffi-bindings->argon2-cffi->notebook>=4.4.1->widgetsnbextension~=3.6.0->ipywidgets>=7.0.0->jupyter-bbox-widget->pylabel) (2.21)\nRequirement already satisfied: python-json-logger>=2.0.4 in /opt/conda/lib/python3.10/site-packages (from jupyter-events>=0.9.0->jupyter-server>=1.8->nbclassic>=0.4.7->notebook>=4.4.1->widgetsnbextension~=3.6.0->ipywidgets>=7.0.0->jupyter-bbox-widget->pylabel) (2.0.7)\nRequirement already satisfied: rfc3339-validator in /opt/conda/lib/python3.10/site-packages (from jupyter-events>=0.9.0->jupyter-server>=1.8->nbclassic>=0.4.7->notebook>=4.4.1->widgetsnbextension~=3.6.0->ipywidgets>=7.0.0->jupyter-bbox-widget->pylabel) (0.1.4)\nRequirement already satisfied: rfc3986-validator>=0.1.1 in /opt/conda/lib/python3.10/site-packages (from jupyter-events>=0.9.0->jupyter-server>=1.8->nbclassic>=0.4.7->notebook>=4.4.1->widgetsnbextension~=3.6.0->ipywidgets>=7.0.0->jupyter-bbox-widget->pylabel) (0.1.1)\nRequirement already satisfied: fqdn in /opt/conda/lib/python3.10/site-packages (from jsonschema[format-nongpl]>=4.18.0->jupyter-events>=0.9.0->jupyter-server>=1.8->nbclassic>=0.4.7->notebook>=4.4.1->widgetsnbextension~=3.6.0->ipywidgets>=7.0.0->jupyter-bbox-widget->pylabel) (1.5.1)\nRequirement already satisfied: isoduration in /opt/conda/lib/python3.10/site-packages (from jsonschema[format-nongpl]>=4.18.0->jupyter-events>=0.9.0->jupyter-server>=1.8->nbclassic>=0.4.7->notebook>=4.4.1->widgetsnbextension~=3.6.0->ipywidgets>=7.0.0->jupyter-bbox-widget->pylabel) (20.11.0)\nRequirement already satisfied: jsonpointer>1.13 in /opt/conda/lib/python3.10/site-packages (from jsonschema[format-nongpl]>=4.18.0->jupyter-events>=0.9.0->jupyter-server>=1.8->nbclassic>=0.4.7->notebook>=4.4.1->widgetsnbextension~=3.6.0->ipywidgets>=7.0.0->jupyter-bbox-widget->pylabel) (2.4)\nRequirement already satisfied: uri-template in /opt/conda/lib/python3.10/site-packages (from jsonschema[format-nongpl]>=4.18.0->jupyter-events>=0.9.0->jupyter-server>=1.8->nbclassic>=0.4.7->notebook>=4.4.1->widgetsnbextension~=3.6.0->ipywidgets>=7.0.0->jupyter-bbox-widget->pylabel) (1.3.0)\nRequirement already satisfied: webcolors>=1.11 in /opt/conda/lib/python3.10/site-packages (from jsonschema[format-nongpl]>=4.18.0->jupyter-events>=0.9.0->jupyter-server>=1.8->nbclassic>=0.4.7->notebook>=4.4.1->widgetsnbextension~=3.6.0->ipywidgets>=7.0.0->jupyter-bbox-widget->pylabel) (1.13)\nRequirement already satisfied: arrow>=0.15.0 in /opt/conda/lib/python3.10/site-packages (from isoduration->jsonschema[format-nongpl]>=4.18.0->jupyter-events>=0.9.0->jupyter-server>=1.8->nbclassic>=0.4.7->notebook>=4.4.1->widgetsnbextension~=3.6.0->ipywidgets>=7.0.0->jupyter-bbox-widget->pylabel) (1.3.0)\nRequirement already satisfied: types-python-dateutil>=2.8.10 in /opt/conda/lib/python3.10/site-packages (from arrow>=0.15.0->isoduration->jsonschema[format-nongpl]>=4.18.0->jupyter-events>=0.9.0->jupyter-server>=1.8->nbclassic>=0.4.7->notebook>=4.4.1->widgetsnbextension~=3.6.0->ipywidgets>=7.0.0->jupyter-bbox-widget->pylabel) (2.8.19.20240106)\n",
          "output_type": "stream"
        }
      ]
    },
    {
      "cell_type": "code",
      "source": [
        "#converiosn of dataset from VOC pascal format to acceptable format\n",
        "from pylabel import importer\n",
        "PATH_TO_ANNOTATIONS = '/kaggle/input/car-plate-detection/annotations'\n",
        "dataset = importer.ImportVOC(path=PATH_TO_ANNOTATIONS)\n",
        "dataset.export.ExportToYoloV5()"
      ],
      "metadata": {
        "execution": {
          "iopub.status.busy": "2024-04-08T18:29:18.819106Z",
          "iopub.execute_input": "2024-04-08T18:29:18.819487Z",
          "iopub.status.idle": "2024-04-08T18:29:25.206877Z",
          "shell.execute_reply.started": "2024-04-08T18:29:18.819448Z",
          "shell.execute_reply": "2024-04-08T18:29:25.206007Z"
        },
        "trusted": true,
        "id": "purncFfARNe3",
        "outputId": "8897c7b6-f505-46db-9429-56598db8b844"
      },
      "execution_count": null,
      "outputs": [
        {
          "name": "stderr",
          "text": "Importing VOC files...: 100%|██████████| 433/433 [00:02<00:00, 150.79it/s]\nExporting YOLO files...: 100%|██████████| 433/433 [00:00<00:00, 501.25it/s]\n",
          "output_type": "stream"
        },
        {
          "execution_count": 6,
          "output_type": "execute_result",
          "data": {
            "text/plain": "['training/dataset.yaml',\n 'training/labels/Cars339.txt',\n 'training/labels/Cars13.txt',\n 'training/labels/Cars74.txt',\n 'training/labels/Cars16.txt',\n 'training/labels/Cars291.txt',\n 'training/labels/Cars236.txt',\n 'training/labels/Cars429.txt',\n 'training/labels/Cars132.txt',\n 'training/labels/Cars251.txt',\n 'training/labels/Cars51.txt',\n 'training/labels/Cars165.txt',\n 'training/labels/Cars313.txt',\n 'training/labels/Cars240.txt',\n 'training/labels/Cars201.txt',\n 'training/labels/Cars412.txt',\n 'training/labels/Cars227.txt',\n 'training/labels/Cars145.txt',\n 'training/labels/Cars203.txt',\n 'training/labels/Cars131.txt',\n 'training/labels/Cars423.txt',\n 'training/labels/Cars123.txt',\n 'training/labels/Cars189.txt',\n 'training/labels/Cars175.txt',\n 'training/labels/Cars30.txt',\n 'training/labels/Cars197.txt',\n 'training/labels/Cars99.txt',\n 'training/labels/Cars191.txt',\n 'training/labels/Cars168.txt',\n 'training/labels/Cars239.txt',\n 'training/labels/Cars26.txt',\n 'training/labels/Cars115.txt',\n 'training/labels/Cars119.txt',\n 'training/labels/Cars395.txt',\n 'training/labels/Cars96.txt',\n 'training/labels/Cars231.txt',\n 'training/labels/Cars422.txt',\n 'training/labels/Cars192.txt',\n 'training/labels/Cars389.txt',\n 'training/labels/Cars409.txt',\n 'training/labels/Cars107.txt',\n 'training/labels/Cars147.txt',\n 'training/labels/Cars77.txt',\n 'training/labels/Cars420.txt',\n 'training/labels/Cars196.txt',\n 'training/labels/Cars73.txt',\n 'training/labels/Cars343.txt',\n 'training/labels/Cars3.txt',\n 'training/labels/Cars295.txt',\n 'training/labels/Cars392.txt',\n 'training/labels/Cars314.txt',\n 'training/labels/Cars261.txt',\n 'training/labels/Cars127.txt',\n 'training/labels/Cars102.txt',\n 'training/labels/Cars384.txt',\n 'training/labels/Cars135.txt',\n 'training/labels/Cars151.txt',\n 'training/labels/Cars124.txt',\n 'training/labels/Cars38.txt',\n 'training/labels/Cars14.txt',\n 'training/labels/Cars425.txt',\n 'training/labels/Cars83.txt',\n 'training/labels/Cars72.txt',\n 'training/labels/Cars39.txt',\n 'training/labels/Cars267.txt',\n 'training/labels/Cars182.txt',\n 'training/labels/Cars237.txt',\n 'training/labels/Cars40.txt',\n 'training/labels/Cars112.txt',\n 'training/labels/Cars341.txt',\n 'training/labels/Cars373.txt',\n 'training/labels/Cars268.txt',\n 'training/labels/Cars45.txt',\n 'training/labels/Cars417.txt',\n 'training/labels/Cars150.txt',\n 'training/labels/Cars383.txt',\n 'training/labels/Cars375.txt',\n 'training/labels/Cars202.txt',\n 'training/labels/Cars256.txt',\n 'training/labels/Cars342.txt',\n 'training/labels/Cars358.txt',\n 'training/labels/Cars350.txt',\n 'training/labels/Cars353.txt',\n 'training/labels/Cars241.txt',\n 'training/labels/Cars174.txt',\n 'training/labels/Cars28.txt',\n 'training/labels/Cars289.txt',\n 'training/labels/Cars207.txt',\n 'training/labels/Cars255.txt',\n 'training/labels/Cars154.txt',\n 'training/labels/Cars244.txt',\n 'training/labels/Cars400.txt',\n 'training/labels/Cars337.txt',\n 'training/labels/Cars272.txt',\n 'training/labels/Cars302.txt',\n 'training/labels/Cars0.txt',\n 'training/labels/Cars186.txt',\n 'training/labels/Cars249.txt',\n 'training/labels/Cars359.txt',\n 'training/labels/Cars404.txt',\n 'training/labels/Cars12.txt',\n 'training/labels/Cars397.txt',\n 'training/labels/Cars17.txt',\n 'training/labels/Cars307.txt',\n 'training/labels/Cars378.txt',\n 'training/labels/Cars81.txt',\n 'training/labels/Cars427.txt',\n 'training/labels/Cars7.txt',\n 'training/labels/Cars364.txt',\n 'training/labels/Cars163.txt',\n 'training/labels/Cars430.txt',\n 'training/labels/Cars367.txt',\n 'training/labels/Cars328.txt',\n 'training/labels/Cars156.txt',\n 'training/labels/Cars242.txt',\n 'training/labels/Cars275.txt',\n 'training/labels/Cars129.txt',\n 'training/labels/Cars317.txt',\n 'training/labels/Cars254.txt',\n 'training/labels/Cars89.txt',\n 'training/labels/Cars187.txt',\n 'training/labels/Cars388.txt',\n 'training/labels/Cars376.txt',\n 'training/labels/Cars67.txt',\n 'training/labels/Cars408.txt',\n 'training/labels/Cars405.txt',\n 'training/labels/Cars292.txt',\n 'training/labels/Cars327.txt',\n 'training/labels/Cars344.txt',\n 'training/labels/Cars325.txt',\n 'training/labels/Cars257.txt',\n 'training/labels/Cars319.txt',\n 'training/labels/Cars120.txt',\n 'training/labels/Cars31.txt',\n 'training/labels/Cars428.txt',\n 'training/labels/Cars164.txt',\n 'training/labels/Cars290.txt',\n 'training/labels/Cars426.txt',\n 'training/labels/Cars37.txt',\n 'training/labels/Cars216.txt',\n 'training/labels/Cars75.txt',\n 'training/labels/Cars160.txt',\n 'training/labels/Cars209.txt',\n 'training/labels/Cars190.txt',\n 'training/labels/Cars322.txt',\n 'training/labels/Cars5.txt',\n 'training/labels/Cars63.txt',\n 'training/labels/Cars104.txt',\n 'training/labels/Cars424.txt',\n 'training/labels/Cars316.txt',\n 'training/labels/Cars387.txt',\n 'training/labels/Cars56.txt',\n 'training/labels/Cars10.txt',\n 'training/labels/Cars374.txt',\n 'training/labels/Cars274.txt',\n 'training/labels/Cars300.txt',\n 'training/labels/Cars432.txt',\n 'training/labels/Cars273.txt',\n 'training/labels/Cars185.txt',\n 'training/labels/Cars418.txt',\n 'training/labels/Cars204.txt',\n 'training/labels/Cars88.txt',\n 'training/labels/Cars195.txt',\n 'training/labels/Cars106.txt',\n 'training/labels/Cars152.txt',\n 'training/labels/Cars296.txt',\n 'training/labels/Cars65.txt',\n 'training/labels/Cars208.txt',\n 'training/labels/Cars86.txt',\n 'training/labels/Cars324.txt',\n 'training/labels/Cars282.txt',\n 'training/labels/Cars263.txt',\n 'training/labels/Cars6.txt',\n 'training/labels/Cars27.txt',\n 'training/labels/Cars32.txt',\n 'training/labels/Cars181.txt',\n 'training/labels/Cars333.txt',\n 'training/labels/Cars311.txt',\n 'training/labels/Cars357.txt',\n 'training/labels/Cars265.txt',\n 'training/labels/Cars396.txt',\n 'training/labels/Cars403.txt',\n 'training/labels/Cars284.txt',\n 'training/labels/Cars118.txt',\n 'training/labels/Cars372.txt',\n 'training/labels/Cars71.txt',\n 'training/labels/Cars142.txt',\n 'training/labels/Cars416.txt',\n 'training/labels/Cars21.txt',\n 'training/labels/Cars93.txt',\n 'training/labels/Cars113.txt',\n 'training/labels/Cars109.txt',\n 'training/labels/Cars264.txt',\n 'training/labels/Cars250.txt',\n 'training/labels/Cars298.txt',\n 'training/labels/Cars36.txt',\n 'training/labels/Cars158.txt',\n 'training/labels/Cars230.txt',\n 'training/labels/Cars346.txt',\n 'training/labels/Cars64.txt',\n 'training/labels/Cars98.txt',\n 'training/labels/Cars380.txt',\n 'training/labels/Cars221.txt',\n 'training/labels/Cars277.txt',\n 'training/labels/Cars19.txt',\n 'training/labels/Cars217.txt',\n 'training/labels/Cars415.txt',\n 'training/labels/Cars157.txt',\n 'training/labels/Cars57.txt',\n 'training/labels/Cars97.txt',\n 'training/labels/Cars310.txt',\n 'training/labels/Cars78.txt',\n 'training/labels/Cars260.txt',\n 'training/labels/Cars15.txt',\n 'training/labels/Cars271.txt',\n 'training/labels/Cars326.txt',\n 'training/labels/Cars394.txt',\n 'training/labels/Cars167.txt',\n 'training/labels/Cars270.txt',\n 'training/labels/Cars219.txt',\n 'training/labels/Cars148.txt',\n 'training/labels/Cars90.txt',\n 'training/labels/Cars281.txt',\n 'training/labels/Cars44.txt',\n 'training/labels/Cars94.txt',\n 'training/labels/Cars266.txt',\n 'training/labels/Cars393.txt',\n 'training/labels/Cars48.txt',\n 'training/labels/Cars218.txt',\n 'training/labels/Cars306.txt',\n 'training/labels/Cars91.txt',\n 'training/labels/Cars368.txt',\n 'training/labels/Cars159.txt',\n 'training/labels/Cars133.txt',\n 'training/labels/Cars288.txt',\n 'training/labels/Cars336.txt',\n 'training/labels/Cars140.txt',\n 'training/labels/Cars18.txt',\n 'training/labels/Cars179.txt',\n 'training/labels/Cars206.txt',\n 'training/labels/Cars92.txt',\n 'training/labels/Cars390.txt',\n 'training/labels/Cars351.txt',\n 'training/labels/Cars352.txt',\n 'training/labels/Cars49.txt',\n 'training/labels/Cars294.txt',\n 'training/labels/Cars35.txt',\n 'training/labels/Cars315.txt',\n 'training/labels/Cars138.txt',\n 'training/labels/Cars391.txt',\n 'training/labels/Cars245.txt',\n 'training/labels/Cars205.txt',\n 'training/labels/Cars210.txt',\n 'training/labels/Cars169.txt',\n 'training/labels/Cars402.txt',\n 'training/labels/Cars170.txt',\n 'training/labels/Cars180.txt',\n 'training/labels/Cars193.txt',\n 'training/labels/Cars144.txt',\n 'training/labels/Cars287.txt',\n 'training/labels/Cars276.txt',\n 'training/labels/Cars247.txt',\n 'training/labels/Cars29.txt',\n 'training/labels/Cars105.txt',\n 'training/labels/Cars62.txt',\n 'training/labels/Cars229.txt',\n 'training/labels/Cars377.txt',\n 'training/labels/Cars278.txt',\n 'training/labels/Cars253.txt',\n 'training/labels/Cars198.txt',\n 'training/labels/Cars355.txt',\n 'training/labels/Cars46.txt',\n 'training/labels/Cars70.txt',\n 'training/labels/Cars348.txt',\n 'training/labels/Cars386.txt',\n 'training/labels/Cars139.txt',\n 'training/labels/Cars137.txt',\n 'training/labels/Cars252.txt',\n 'training/labels/Cars95.txt',\n 'training/labels/Cars305.txt',\n 'training/labels/Cars329.txt',\n 'training/labels/Cars385.txt',\n 'training/labels/Cars232.txt',\n 'training/labels/Cars347.txt',\n 'training/labels/Cars262.txt',\n 'training/labels/Cars235.txt',\n 'training/labels/Cars146.txt',\n 'training/labels/Cars184.txt',\n 'training/labels/Cars401.txt',\n 'training/labels/Cars58.txt',\n 'training/labels/Cars121.txt',\n 'training/labels/Cars285.txt',\n 'training/labels/Cars411.txt',\n 'training/labels/Cars258.txt',\n 'training/labels/Cars360.txt',\n 'training/labels/Cars363.txt',\n 'training/labels/Cars345.txt',\n 'training/labels/Cars303.txt',\n 'training/labels/Cars153.txt',\n 'training/labels/Cars419.txt',\n 'training/labels/Cars381.txt',\n 'training/labels/Cars143.txt',\n 'training/labels/Cars87.txt',\n 'training/labels/Cars354.txt',\n 'training/labels/Cars335.txt',\n 'training/labels/Cars188.txt',\n 'training/labels/Cars171.txt',\n 'training/labels/Cars224.txt',\n 'training/labels/Cars228.txt',\n 'training/labels/Cars116.txt',\n 'training/labels/Cars308.txt',\n 'training/labels/Cars108.txt',\n 'training/labels/Cars301.txt',\n 'training/labels/Cars283.txt',\n 'training/labels/Cars128.txt',\n 'training/labels/Cars248.txt',\n 'training/labels/Cars321.txt',\n 'training/labels/Cars134.txt',\n 'training/labels/Cars211.txt',\n 'training/labels/Cars68.txt',\n 'training/labels/Cars414.txt',\n 'training/labels/Cars9.txt',\n 'training/labels/Cars69.txt',\n 'training/labels/Cars61.txt',\n 'training/labels/Cars59.txt',\n 'training/labels/Cars362.txt',\n 'training/labels/Cars76.txt',\n 'training/labels/Cars323.txt',\n 'training/labels/Cars25.txt',\n 'training/labels/Cars312.txt',\n 'training/labels/Cars100.txt',\n 'training/labels/Cars54.txt',\n 'training/labels/Cars371.txt',\n 'training/labels/Cars382.txt',\n 'training/labels/Cars53.txt',\n 'training/labels/Cars214.txt',\n 'training/labels/Cars23.txt',\n 'training/labels/Cars84.txt',\n 'training/labels/Cars361.txt',\n 'training/labels/Cars183.txt',\n 'training/labels/Cars173.txt',\n 'training/labels/Cars194.txt',\n 'training/labels/Cars286.txt',\n 'training/labels/Cars50.txt',\n 'training/labels/Cars101.txt',\n 'training/labels/Cars125.txt',\n 'training/labels/Cars334.txt',\n 'training/labels/Cars149.txt',\n 'training/labels/Cars332.txt',\n 'training/labels/Cars320.txt',\n 'training/labels/Cars293.txt',\n 'training/labels/Cars234.txt',\n 'training/labels/Cars178.txt',\n 'training/labels/Cars410.txt',\n 'training/labels/Cars330.txt',\n 'training/labels/Cars356.txt',\n 'training/labels/Cars110.txt',\n 'training/labels/Cars398.txt',\n 'training/labels/Cars130.txt',\n 'training/labels/Cars213.txt',\n 'training/labels/Cars238.txt',\n 'training/labels/Cars212.txt',\n 'training/labels/Cars161.txt',\n 'training/labels/Cars41.txt',\n 'training/labels/Cars176.txt',\n 'training/labels/Cars43.txt',\n 'training/labels/Cars136.txt',\n 'training/labels/Cars280.txt',\n 'training/labels/Cars259.txt',\n 'training/labels/Cars407.txt',\n 'training/labels/Cars42.txt',\n 'training/labels/Cars413.txt',\n 'training/labels/Cars365.txt',\n 'training/labels/Cars33.txt',\n 'training/labels/Cars200.txt',\n 'training/labels/Cars279.txt',\n 'training/labels/Cars20.txt',\n 'training/labels/Cars162.txt',\n 'training/labels/Cars126.txt',\n 'training/labels/Cars117.txt',\n 'training/labels/Cars246.txt',\n 'training/labels/Cars8.txt',\n 'training/labels/Cars406.txt',\n 'training/labels/Cars421.txt',\n 'training/labels/Cars34.txt',\n 'training/labels/Cars309.txt',\n 'training/labels/Cars47.txt',\n 'training/labels/Cars220.txt',\n 'training/labels/Cars215.txt',\n 'training/labels/Cars370.txt',\n 'training/labels/Cars103.txt',\n 'training/labels/Cars141.txt',\n 'training/labels/Cars226.txt',\n 'training/labels/Cars225.txt',\n 'training/labels/Cars338.txt',\n 'training/labels/Cars122.txt',\n 'training/labels/Cars80.txt',\n 'training/labels/Cars269.txt',\n 'training/labels/Cars233.txt',\n 'training/labels/Cars366.txt',\n 'training/labels/Cars24.txt',\n 'training/labels/Cars431.txt',\n 'training/labels/Cars55.txt',\n 'training/labels/Cars172.txt',\n 'training/labels/Cars199.txt',\n 'training/labels/Cars304.txt',\n 'training/labels/Cars243.txt',\n 'training/labels/Cars79.txt',\n 'training/labels/Cars177.txt',\n 'training/labels/Cars22.txt',\n 'training/labels/Cars223.txt',\n 'training/labels/Cars331.txt',\n 'training/labels/Cars85.txt',\n 'training/labels/Cars155.txt',\n 'training/labels/Cars222.txt',\n 'training/labels/Cars299.txt',\n 'training/labels/Cars318.txt',\n 'training/labels/Cars4.txt',\n 'training/labels/Cars111.txt',\n 'training/labels/Cars114.txt',\n 'training/labels/Cars66.txt',\n 'training/labels/Cars2.txt',\n 'training/labels/Cars11.txt',\n 'training/labels/Cars379.txt',\n 'training/labels/Cars1.txt',\n 'training/labels/Cars399.txt',\n 'training/labels/Cars82.txt',\n 'training/labels/Cars369.txt',\n 'training/labels/Cars340.txt',\n 'training/labels/Cars166.txt',\n 'training/labels/Cars60.txt',\n 'training/labels/Cars52.txt',\n 'training/labels/Cars297.txt',\n 'training/labels/Cars349.txt']"
          },
          "metadata": {}
        }
      ]
    },
    {
      "cell_type": "code",
      "source": [
        "#path directory for kernel initialization\n",
        "!cp -r /kaggle/input/car-plate-detection/images /kaggle/working/training"
      ],
      "metadata": {
        "execution": {
          "iopub.status.busy": "2024-04-08T18:29:25.209701Z",
          "iopub.execute_input": "2024-04-08T18:29:25.210388Z",
          "iopub.status.idle": "2024-04-08T18:29:26.838188Z",
          "shell.execute_reply.started": "2024-04-08T18:29:25.210361Z",
          "shell.execute_reply": "2024-04-08T18:29:26.837057Z"
        },
        "trusted": true,
        "id": "AJDjxLBSRNe4"
      },
      "execution_count": null,
      "outputs": []
    },
    {
      "cell_type": "code",
      "source": [
        "!wandb off"
      ],
      "metadata": {
        "execution": {
          "iopub.status.busy": "2024-04-08T18:29:26.839628Z",
          "iopub.execute_input": "2024-04-08T18:29:26.839923Z",
          "iopub.status.idle": "2024-04-08T18:29:28.677421Z",
          "shell.execute_reply.started": "2024-04-08T18:29:26.839894Z",
          "shell.execute_reply": "2024-04-08T18:29:28.676236Z"
        },
        "trusted": true,
        "id": "WqRpGICFRNe5",
        "outputId": "9b7c74c5-b99b-4aaa-b41d-54dac9fc34ab"
      },
      "execution_count": null,
      "outputs": [
        {
          "name": "stdout",
          "text": "W&B offline. Running your script from this directory will only write metadata locally. Use wandb disabled to completely turn off W&B.\n",
          "output_type": "stream"
        }
      ]
    },
    {
      "cell_type": "code",
      "source": [
        "#ultralytics module download\n",
        "!pip install ultralytics"
      ],
      "metadata": {
        "execution": {
          "iopub.status.busy": "2024-04-08T18:29:28.679133Z",
          "iopub.execute_input": "2024-04-08T18:29:28.680058Z",
          "iopub.status.idle": "2024-04-08T18:29:41.077269Z",
          "shell.execute_reply.started": "2024-04-08T18:29:28.680017Z",
          "shell.execute_reply": "2024-04-08T18:29:41.076289Z"
        },
        "trusted": true,
        "id": "zth8ofSJRNe5",
        "outputId": "365452c2-f81d-40b9-b095-a02e948473a1"
      },
      "execution_count": null,
      "outputs": [
        {
          "name": "stdout",
          "text": "Requirement already satisfied: ultralytics in /opt/conda/lib/python3.10/site-packages (8.1.45)\nRequirement already satisfied: matplotlib>=3.3.0 in /opt/conda/lib/python3.10/site-packages (from ultralytics) (3.7.5)\nRequirement already satisfied: opencv-python>=4.6.0 in /opt/conda/lib/python3.10/site-packages (from ultralytics) (4.9.0.80)\nRequirement already satisfied: pillow>=7.1.2 in /opt/conda/lib/python3.10/site-packages (from ultralytics) (9.5.0)\nRequirement already satisfied: pyyaml>=5.3.1 in /opt/conda/lib/python3.10/site-packages (from ultralytics) (6.0.1)\nRequirement already satisfied: requests>=2.23.0 in /opt/conda/lib/python3.10/site-packages (from ultralytics) (2.31.0)\nRequirement already satisfied: scipy>=1.4.1 in /opt/conda/lib/python3.10/site-packages (from ultralytics) (1.11.4)\nRequirement already satisfied: torch>=1.8.0 in /opt/conda/lib/python3.10/site-packages (from ultralytics) (2.1.2)\nRequirement already satisfied: torchvision>=0.9.0 in /opt/conda/lib/python3.10/site-packages (from ultralytics) (0.16.2)\nRequirement already satisfied: tqdm>=4.64.0 in /opt/conda/lib/python3.10/site-packages (from ultralytics) (4.66.1)\nRequirement already satisfied: psutil in /opt/conda/lib/python3.10/site-packages (from ultralytics) (5.9.3)\nRequirement already satisfied: py-cpuinfo in /opt/conda/lib/python3.10/site-packages (from ultralytics) (9.0.0)\nRequirement already satisfied: thop>=0.1.1 in /opt/conda/lib/python3.10/site-packages (from ultralytics) (0.1.1.post2209072238)\nRequirement already satisfied: pandas>=1.1.4 in /opt/conda/lib/python3.10/site-packages (from ultralytics) (2.1.4)\nRequirement already satisfied: seaborn>=0.11.0 in /opt/conda/lib/python3.10/site-packages (from ultralytics) (0.12.2)\nRequirement already satisfied: contourpy>=1.0.1 in /opt/conda/lib/python3.10/site-packages (from matplotlib>=3.3.0->ultralytics) (1.2.0)\nRequirement already satisfied: cycler>=0.10 in /opt/conda/lib/python3.10/site-packages (from matplotlib>=3.3.0->ultralytics) (0.12.1)\nRequirement already satisfied: fonttools>=4.22.0 in /opt/conda/lib/python3.10/site-packages (from matplotlib>=3.3.0->ultralytics) (4.47.0)\nRequirement already satisfied: kiwisolver>=1.0.1 in /opt/conda/lib/python3.10/site-packages (from matplotlib>=3.3.0->ultralytics) (1.4.5)\nRequirement already satisfied: numpy<2,>=1.20 in /opt/conda/lib/python3.10/site-packages (from matplotlib>=3.3.0->ultralytics) (1.26.4)\nRequirement already satisfied: packaging>=20.0 in /opt/conda/lib/python3.10/site-packages (from matplotlib>=3.3.0->ultralytics) (21.3)\nRequirement already satisfied: pyparsing>=2.3.1 in /opt/conda/lib/python3.10/site-packages (from matplotlib>=3.3.0->ultralytics) (3.1.1)\nRequirement already satisfied: python-dateutil>=2.7 in /opt/conda/lib/python3.10/site-packages (from matplotlib>=3.3.0->ultralytics) (2.9.0.post0)\nRequirement already satisfied: pytz>=2020.1 in /opt/conda/lib/python3.10/site-packages (from pandas>=1.1.4->ultralytics) (2023.3.post1)\nRequirement already satisfied: tzdata>=2022.1 in /opt/conda/lib/python3.10/site-packages (from pandas>=1.1.4->ultralytics) (2023.4)\nRequirement already satisfied: charset-normalizer<4,>=2 in /opt/conda/lib/python3.10/site-packages (from requests>=2.23.0->ultralytics) (3.3.2)\nRequirement already satisfied: idna<4,>=2.5 in /opt/conda/lib/python3.10/site-packages (from requests>=2.23.0->ultralytics) (3.6)\nRequirement already satisfied: urllib3<3,>=1.21.1 in /opt/conda/lib/python3.10/site-packages (from requests>=2.23.0->ultralytics) (1.26.18)\nRequirement already satisfied: certifi>=2017.4.17 in /opt/conda/lib/python3.10/site-packages (from requests>=2.23.0->ultralytics) (2024.2.2)\nRequirement already satisfied: filelock in /opt/conda/lib/python3.10/site-packages (from torch>=1.8.0->ultralytics) (3.13.1)\nRequirement already satisfied: typing-extensions in /opt/conda/lib/python3.10/site-packages (from torch>=1.8.0->ultralytics) (4.9.0)\nRequirement already satisfied: sympy in /opt/conda/lib/python3.10/site-packages (from torch>=1.8.0->ultralytics) (1.12)\nRequirement already satisfied: networkx in /opt/conda/lib/python3.10/site-packages (from torch>=1.8.0->ultralytics) (3.2.1)\nRequirement already satisfied: jinja2 in /opt/conda/lib/python3.10/site-packages (from torch>=1.8.0->ultralytics) (3.1.2)\nRequirement already satisfied: fsspec in /opt/conda/lib/python3.10/site-packages (from torch>=1.8.0->ultralytics) (2024.3.0)\nRequirement already satisfied: six>=1.5 in /opt/conda/lib/python3.10/site-packages (from python-dateutil>=2.7->matplotlib>=3.3.0->ultralytics) (1.16.0)\nRequirement already satisfied: MarkupSafe>=2.0 in /opt/conda/lib/python3.10/site-packages (from jinja2->torch>=1.8.0->ultralytics) (2.1.3)\nRequirement already satisfied: mpmath>=0.19 in /opt/conda/lib/python3.10/site-packages (from sympy->torch>=1.8.0->ultralytics) (1.3.0)\n",
          "output_type": "stream"
        }
      ]
    },
    {
      "cell_type": "code",
      "source": [
        "#importing YOLO instance\n",
        "from ultralytics import YOLO"
      ],
      "metadata": {
        "execution": {
          "iopub.status.busy": "2024-04-08T18:29:41.078934Z",
          "iopub.execute_input": "2024-04-08T18:29:41.079334Z",
          "iopub.status.idle": "2024-04-08T18:29:45.109693Z",
          "shell.execute_reply.started": "2024-04-08T18:29:41.079294Z",
          "shell.execute_reply": "2024-04-08T18:29:45.108671Z"
        },
        "trusted": true,
        "id": "d-Uh5SDYRNe5"
      },
      "execution_count": null,
      "outputs": []
    },
    {
      "cell_type": "code",
      "source": [
        "# Loading a model Yolo3 ultralytics pretained model\n",
        "model1 =  YOLO('yolov3u.pt')  # load a pretrained model"
      ],
      "metadata": {
        "execution": {
          "iopub.status.busy": "2024-04-08T18:29:45.111075Z",
          "iopub.execute_input": "2024-04-08T18:29:45.112079Z",
          "iopub.status.idle": "2024-04-08T18:29:45.481186Z",
          "shell.execute_reply.started": "2024-04-08T18:29:45.112045Z",
          "shell.execute_reply": "2024-04-08T18:29:45.480214Z"
        },
        "trusted": true,
        "id": "bsApJwpPRNe6"
      },
      "execution_count": null,
      "outputs": []
    },
    {
      "cell_type": "code",
      "source": [
        "\n",
        "# Training  the model on 10 iteration and GPU\n",
        "results = model1.train(data='/kaggle/working/training/dataset.yaml', epochs=10, imgsz=640, device=[0])"
      ],
      "metadata": {
        "execution": {
          "iopub.status.busy": "2024-04-08T18:29:45.482676Z",
          "iopub.execute_input": "2024-04-08T18:29:45.483297Z",
          "iopub.status.idle": "2024-04-08T18:38:51.556362Z",
          "shell.execute_reply.started": "2024-04-08T18:29:45.483265Z",
          "shell.execute_reply": "2024-04-08T18:38:51.555276Z"
        },
        "trusted": true,
        "colab": {
          "referenced_widgets": [
            ""
          ]
        },
        "id": "xJkNK1h9RNe6",
        "outputId": "f06313f3-53ab-4701-e4d1-1e6c848423e4"
      },
      "execution_count": null,
      "outputs": [
        {
          "name": "stdout",
          "text": "Ultralytics YOLOv8.1.45 🚀 Python-3.10.13 torch-2.1.2 CUDA:0 (Tesla P100-PCIE-16GB, 16276MiB)\n\u001b[34m\u001b[1mengine/trainer: \u001b[0mtask=detect, mode=train, model=yolov3u.pt, data=/kaggle/working/training/dataset.yaml, epochs=10, time=None, patience=100, batch=16, imgsz=640, save=True, save_period=-1, cache=False, device=[0], workers=8, project=None, name=train7, exist_ok=False, pretrained=True, optimizer=auto, verbose=True, seed=0, deterministic=True, single_cls=False, rect=False, cos_lr=False, close_mosaic=10, resume=False, amp=True, fraction=1.0, profile=False, freeze=None, multi_scale=False, overlap_mask=True, mask_ratio=4, dropout=0.0, val=True, split=val, save_json=False, save_hybrid=False, conf=None, iou=0.7, max_det=300, half=False, dnn=False, plots=True, source=None, vid_stride=1, stream_buffer=False, visualize=False, augment=False, agnostic_nms=False, classes=None, retina_masks=False, embed=None, show=False, save_frames=False, save_txt=False, save_conf=False, save_crop=False, show_labels=True, show_conf=True, show_boxes=True, line_width=None, format=torchscript, keras=False, optimize=False, int8=False, dynamic=False, simplify=False, opset=None, workspace=4, nms=False, lr0=0.01, lrf=0.01, momentum=0.937, weight_decay=0.0005, warmup_epochs=3.0, warmup_momentum=0.8, warmup_bias_lr=0.1, box=7.5, cls=0.5, dfl=1.5, pose=12.0, kobj=1.0, label_smoothing=0.0, nbs=64, hsv_h=0.015, hsv_s=0.7, hsv_v=0.4, degrees=0.0, translate=0.1, scale=0.5, shear=0.0, perspective=0.0, flipud=0.0, fliplr=0.5, bgr=0.0, mosaic=1.0, mixup=0.0, copy_paste=0.0, auto_augment=randaugment, erasing=0.4, crop_fraction=1.0, cfg=None, tracker=botsort.yaml, save_dir=runs/detect/train7\nDownloading https://ultralytics.com/assets/Arial.ttf to '/root/.config/Ultralytics/Arial.ttf'...\n",
          "output_type": "stream"
        },
        {
          "name": "stderr",
          "text": "100%|██████████| 755k/755k [00:00<00:00, 39.9MB/s]\n2024-04-08 18:29:48,395\tINFO util.py:124 -- Outdated packages:\n  ipywidgets==7.7.1 found, needs ipywidgets>=8\nRun `pip install -U ipywidgets`, then restart the notebook server for rich notebook output.\n2024-04-08 18:29:49,416\tINFO util.py:124 -- Outdated packages:\n  ipywidgets==7.7.1 found, needs ipywidgets>=8\nRun `pip install -U ipywidgets`, then restart the notebook server for rich notebook output.\n2024-04-08 18:29:51.917990: E external/local_xla/xla/stream_executor/cuda/cuda_dnn.cc:9261] Unable to register cuDNN factory: Attempting to register factory for plugin cuDNN when one has already been registered\n2024-04-08 18:29:51.918092: E external/local_xla/xla/stream_executor/cuda/cuda_fft.cc:607] Unable to register cuFFT factory: Attempting to register factory for plugin cuFFT when one has already been registered\n2024-04-08 18:29:52.091191: E external/local_xla/xla/stream_executor/cuda/cuda_blas.cc:1515] Unable to register cuBLAS factory: Attempting to register factory for plugin cuBLAS when one has already been registered\n",
          "output_type": "stream"
        },
        {
          "name": "stdout",
          "text": "Overriding model.yaml nc=80 with nc=1\n\n                   from  n    params  module                                       arguments                     \n  0                  -1  1       928  ultralytics.nn.modules.conv.Conv             [3, 32, 3, 1]                 \n  1                  -1  1     18560  ultralytics.nn.modules.conv.Conv             [32, 64, 3, 2]                \n  2                  -1  1     37056  ultralytics.nn.modules.block.Bottleneck      [64, 64]                      \n  3                  -1  1     73984  ultralytics.nn.modules.conv.Conv             [64, 128, 3, 2]               \n  4                  -1  2    295680  ultralytics.nn.modules.block.Bottleneck      [128, 128]                    \n  5                  -1  1    295424  ultralytics.nn.modules.conv.Conv             [128, 256, 3, 2]              \n  6                  -1  8   4724736  ultralytics.nn.modules.block.Bottleneck      [256, 256]                    \n  7                  -1  1   1180672  ultralytics.nn.modules.conv.Conv             [256, 512, 3, 2]              \n  8                  -1  8  18886656  ultralytics.nn.modules.block.Bottleneck      [512, 512]                    \n  9                  -1  1   4720640  ultralytics.nn.modules.conv.Conv             [512, 1024, 3, 2]             \n 10                  -1  4  37761024  ultralytics.nn.modules.block.Bottleneck      [1024, 1024]                  \n 11                  -1  1   9440256  ultralytics.nn.modules.block.Bottleneck      [1024, 1024, False]           \n 12                  -1  1    525312  ultralytics.nn.modules.conv.Conv             [1024, 512, 1, 1]             \n 13                  -1  1   4720640  ultralytics.nn.modules.conv.Conv             [512, 1024, 3, 1]             \n 14                  -1  1    525312  ultralytics.nn.modules.conv.Conv             [1024, 512, 1, 1]             \n 15                  -1  1   4720640  ultralytics.nn.modules.conv.Conv             [512, 1024, 3, 1]             \n 16                  -2  1    131584  ultralytics.nn.modules.conv.Conv             [512, 256, 1, 1]              \n 17                  -1  1         0  torch.nn.modules.upsampling.Upsample         [None, 2, 'nearest']          \n 18             [-1, 8]  1         0  ultralytics.nn.modules.conv.Concat           [1]                           \n 19                  -1  1   2950656  ultralytics.nn.modules.block.Bottleneck      [768, 512, False]             \n 20                  -1  1   2360832  ultralytics.nn.modules.block.Bottleneck      [512, 512, False]             \n 21                  -1  1    131584  ultralytics.nn.modules.conv.Conv             [512, 256, 1, 1]              \n 22                  -1  1   1180672  ultralytics.nn.modules.conv.Conv             [256, 512, 3, 1]              \n 23                  -2  1     33024  ultralytics.nn.modules.conv.Conv             [256, 128, 1, 1]              \n 24                  -1  1         0  torch.nn.modules.upsampling.Upsample         [None, 2, 'nearest']          \n 25             [-1, 6]  1         0  ultralytics.nn.modules.conv.Concat           [1]                           \n 26                  -1  1    738048  ultralytics.nn.modules.block.Bottleneck      [384, 256, False]             \n 27                  -1  2   1181184  ultralytics.nn.modules.block.Bottleneck      [256, 256, False]             \n 28        [27, 22, 15]  1   7058131  ultralytics.nn.modules.head.Detect           [1, [256, 512, 1024]]         \nYOLOv3 summary: 310 layers, 103693235 parameters, 103693219 gradients, 283.0 GFLOPs\n\nTransferred 511/517 items from pretrained weights\n\u001b[34m\u001b[1mTensorBoard: \u001b[0mStart with 'tensorboard --logdir runs/detect/train7', view at http://localhost:6006/\n",
          "output_type": "stream"
        },
        {
          "output_type": "display_data",
          "data": {
            "text/plain": "<IPython.core.display.HTML object>",
            "text/html": "Tracking run with wandb version 0.16.4"
          },
          "metadata": {}
        },
        {
          "output_type": "display_data",
          "data": {
            "text/plain": "<IPython.core.display.HTML object>",
            "text/html": "W&B syncing is set to <code>`offline`<code> in this directory.  <br/>Run <code>`wandb online`<code> or set <code>WANDB_MODE=online<code> to enable cloud syncing."
          },
          "metadata": {}
        },
        {
          "name": "stdout",
          "text": "Freezing layer 'model.28.dfl.conv.weight'\n\u001b[34m\u001b[1mAMP: \u001b[0mrunning Automatic Mixed Precision (AMP) checks with YOLOv8n...\n\u001b[34m\u001b[1mAMP: \u001b[0mchecks passed ✅\n",
          "output_type": "stream"
        },
        {
          "name": "stderr",
          "text": "\u001b[34m\u001b[1mtrain: \u001b[0mScanning /kaggle/working/training/labels.cache... 433 images, 0 backgrounds, 0 corrupt: 100%|██████████| 433/433 [00:00<?, ?it/s]\n",
          "output_type": "stream"
        },
        {
          "name": "stdout",
          "text": "\u001b[34m\u001b[1malbumentations: \u001b[0mBlur(p=0.01, blur_limit=(3, 7)), MedianBlur(p=0.01, blur_limit=(3, 7)), ToGray(p=0.01), CLAHE(p=0.01, clip_limit=(1, 4.0), tile_grid_size=(8, 8))\n",
          "output_type": "stream"
        },
        {
          "name": "stderr",
          "text": "\u001b[34m\u001b[1mval: \u001b[0mScanning /kaggle/working/training/labels.cache... 433 images, 0 backgrounds, 0 corrupt: 100%|██████████| 433/433 [00:00<?, ?it/s]\n",
          "output_type": "stream"
        },
        {
          "name": "stdout",
          "text": "Plotting labels to runs/detect/train7/labels.jpg... \n\u001b[34m\u001b[1moptimizer:\u001b[0m 'optimizer=auto' found, ignoring 'lr0=0.01' and 'momentum=0.937' and determining best 'optimizer', 'lr0' and 'momentum' automatically... \n\u001b[34m\u001b[1moptimizer:\u001b[0m AdamW(lr=0.002, momentum=0.9) with parameter groups 84 weight(decay=0.0), 91 weight(decay=0.0005), 90 bias(decay=0.0)\n\u001b[34m\u001b[1mTensorBoard: \u001b[0mmodel graph visualization added ✅\nImage sizes 640 train, 640 val\nUsing 4 dataloader workers\nLogging results to \u001b[1mruns/detect/train7\u001b[0m\nStarting training for 10 epochs...\nClosing dataloader mosaic\n\u001b[34m\u001b[1malbumentations: \u001b[0mBlur(p=0.01, blur_limit=(3, 7)), MedianBlur(p=0.01, blur_limit=(3, 7)), ToGray(p=0.01), CLAHE(p=0.01, clip_limit=(1, 4.0), tile_grid_size=(8, 8))\n\n      Epoch    GPU_mem   box_loss   cls_loss   dfl_loss  Instances       Size\n",
          "output_type": "stream"
        },
        {
          "name": "stderr",
          "text": "       1/10      15.2G      2.021      9.372      2.075          1        640: 100%|██████████| 28/28 [00:34<00:00,  1.25s/it]\n                 Class     Images  Instances      Box(P          R      mAP50  mAP50-95): 100%|██████████| 14/14 [00:10<00:00,  1.35it/s]",
          "output_type": "stream"
        },
        {
          "name": "stdout",
          "text": "                   all        433        471   0.000144     0.0361    8.1e-05   1.96e-05\n",
          "output_type": "stream"
        },
        {
          "name": "stderr",
          "text": "\n",
          "output_type": "stream"
        },
        {
          "name": "stdout",
          "text": "\n      Epoch    GPU_mem   box_loss   cls_loss   dfl_loss  Instances       Size\n",
          "output_type": "stream"
        },
        {
          "name": "stderr",
          "text": "       2/10      15.3G      2.042       2.96      2.186          1        640: 100%|██████████| 28/28 [00:32<00:00,  1.15s/it]\n                 Class     Images  Instances      Box(P          R      mAP50  mAP50-95): 100%|██████████| 14/14 [00:08<00:00,  1.73it/s]",
          "output_type": "stream"
        },
        {
          "name": "stdout",
          "text": "                   all        433        471   0.000144     0.0361    8.1e-05   1.96e-05\n",
          "output_type": "stream"
        },
        {
          "name": "stderr",
          "text": "\n",
          "output_type": "stream"
        },
        {
          "name": "stdout",
          "text": "\n      Epoch    GPU_mem   box_loss   cls_loss   dfl_loss  Instances       Size\n",
          "output_type": "stream"
        },
        {
          "name": "stderr",
          "text": "       3/10      15.5G      2.048      2.249      2.114          1        640: 100%|██████████| 28/28 [00:32<00:00,  1.15s/it]\n                 Class     Images  Instances      Box(P          R      mAP50  mAP50-95): 100%|██████████| 14/14 [00:08<00:00,  1.68it/s]",
          "output_type": "stream"
        },
        {
          "name": "stdout",
          "text": "                   all        433        471   0.000144     0.0361    8.1e-05   1.96e-05\n",
          "output_type": "stream"
        },
        {
          "name": "stderr",
          "text": "\n",
          "output_type": "stream"
        },
        {
          "name": "stdout",
          "text": "\n      Epoch    GPU_mem   box_loss   cls_loss   dfl_loss  Instances       Size\n",
          "output_type": "stream"
        },
        {
          "name": "stderr",
          "text": "       4/10      15.4G      2.007      1.922      2.094          1        640: 100%|██████████| 28/28 [00:32<00:00,  1.15s/it]\n                 Class     Images  Instances      Box(P          R      mAP50  mAP50-95): 100%|██████████| 14/14 [00:08<00:00,  1.59it/s]",
          "output_type": "stream"
        },
        {
          "name": "stdout",
          "text": "                   all        433        471    0.00222      0.151   0.000852   0.000317\n",
          "output_type": "stream"
        },
        {
          "name": "stderr",
          "text": "\n",
          "output_type": "stream"
        },
        {
          "name": "stdout",
          "text": "\n      Epoch    GPU_mem   box_loss   cls_loss   dfl_loss  Instances       Size\n",
          "output_type": "stream"
        },
        {
          "name": "stderr",
          "text": "       5/10      15.4G      1.854      1.712      1.902          1        640: 100%|██████████| 28/28 [00:32<00:00,  1.15s/it]\n                 Class     Images  Instances      Box(P          R      mAP50  mAP50-95): 100%|██████████| 14/14 [00:09<00:00,  1.55it/s]",
          "output_type": "stream"
        },
        {
          "name": "stdout",
          "text": "                   all        433        471      0.012      0.127    0.00985    0.00385\n",
          "output_type": "stream"
        },
        {
          "name": "stderr",
          "text": "\n",
          "output_type": "stream"
        },
        {
          "name": "stdout",
          "text": "\n      Epoch    GPU_mem   box_loss   cls_loss   dfl_loss  Instances       Size\n",
          "output_type": "stream"
        },
        {
          "name": "stderr",
          "text": "       6/10      15.4G      1.813      1.617      1.956          1        640: 100%|██████████| 28/28 [00:32<00:00,  1.15s/it]\n                 Class     Images  Instances      Box(P          R      mAP50  mAP50-95): 100%|██████████| 14/14 [00:09<00:00,  1.51it/s]",
          "output_type": "stream"
        },
        {
          "name": "stdout",
          "text": "                   all        433        471      0.647      0.656      0.684      0.313\n",
          "output_type": "stream"
        },
        {
          "name": "stderr",
          "text": "\n",
          "output_type": "stream"
        },
        {
          "name": "stdout",
          "text": "\n      Epoch    GPU_mem   box_loss   cls_loss   dfl_loss  Instances       Size\n",
          "output_type": "stream"
        },
        {
          "name": "stderr",
          "text": "       7/10      13.5G      1.689      1.517      1.792          1        640: 100%|██████████| 28/28 [00:32<00:00,  1.15s/it]\n                 Class     Images  Instances      Box(P          R      mAP50  mAP50-95): 100%|██████████| 14/14 [00:08<00:00,  1.66it/s]",
          "output_type": "stream"
        },
        {
          "name": "stdout",
          "text": "                   all        433        471        0.7      0.658      0.714      0.347\n",
          "output_type": "stream"
        },
        {
          "name": "stderr",
          "text": "\n",
          "output_type": "stream"
        },
        {
          "name": "stdout",
          "text": "\n      Epoch    GPU_mem   box_loss   cls_loss   dfl_loss  Instances       Size\n",
          "output_type": "stream"
        },
        {
          "name": "stderr",
          "text": "       8/10      13.4G      1.687      1.286       1.75          1        640: 100%|██████████| 28/28 [00:32<00:00,  1.15s/it]\n                 Class     Images  Instances      Box(P          R      mAP50  mAP50-95): 100%|██████████| 14/14 [00:08<00:00,  1.61it/s]",
          "output_type": "stream"
        },
        {
          "name": "stdout",
          "text": "                   all        433        471      0.785       0.73      0.795      0.429\n",
          "output_type": "stream"
        },
        {
          "name": "stderr",
          "text": "\n",
          "output_type": "stream"
        },
        {
          "name": "stdout",
          "text": "\n      Epoch    GPU_mem   box_loss   cls_loss   dfl_loss  Instances       Size\n",
          "output_type": "stream"
        },
        {
          "name": "stderr",
          "text": "       9/10      13.5G      1.642       1.23      1.695          1        640: 100%|██████████| 28/28 [00:32<00:00,  1.15s/it]\n                 Class     Images  Instances      Box(P          R      mAP50  mAP50-95): 100%|██████████| 14/14 [00:08<00:00,  1.62it/s]",
          "output_type": "stream"
        },
        {
          "name": "stdout",
          "text": "                   all        433        471      0.862      0.793      0.855      0.461\n",
          "output_type": "stream"
        },
        {
          "name": "stderr",
          "text": "\n",
          "output_type": "stream"
        },
        {
          "name": "stdout",
          "text": "\n      Epoch    GPU_mem   box_loss   cls_loss   dfl_loss  Instances       Size\n",
          "output_type": "stream"
        },
        {
          "name": "stderr",
          "text": "      10/10      13.9G      1.601      1.126      1.724          1        640: 100%|██████████| 28/28 [00:32<00:00,  1.15s/it]\n                 Class     Images  Instances      Box(P          R      mAP50  mAP50-95): 100%|██████████| 14/14 [00:08<00:00,  1.59it/s]",
          "output_type": "stream"
        },
        {
          "name": "stdout",
          "text": "                   all        433        471      0.875      0.783      0.885      0.492\n",
          "output_type": "stream"
        },
        {
          "name": "stderr",
          "text": "\n",
          "output_type": "stream"
        },
        {
          "name": "stdout",
          "text": "\n10 epochs completed in 0.128 hours.\nOptimizer stripped from runs/detect/train7/weights/last.pt, 207.8MB\nOptimizer stripped from runs/detect/train7/weights/best.pt, 207.8MB\n\nValidating runs/detect/train7/weights/best.pt...\nUltralytics YOLOv8.1.45 🚀 Python-3.10.13 torch-2.1.2 CUDA:0 (Tesla P100-PCIE-16GB, 16276MiB)\nYOLOv3 summary (fused): 226 layers, 103665011 parameters, 0 gradients, 282.2 GFLOPs\n",
          "output_type": "stream"
        },
        {
          "name": "stderr",
          "text": "                 Class     Images  Instances      Box(P          R      mAP50  mAP50-95): 100%|██████████| 14/14 [00:09<00:00,  1.42it/s]\n",
          "output_type": "stream"
        },
        {
          "name": "stdout",
          "text": "                   all        433        471      0.875      0.783      0.885      0.492\nSpeed: 0.1ms preprocess, 16.6ms inference, 0.0ms loss, 0.9ms postprocess per image\nResults saved to \u001b[1mruns/detect/train7\u001b[0m\n",
          "output_type": "stream"
        },
        {
          "output_type": "display_data",
          "data": {
            "text/plain": "VBox(children=(Label(value='0.000 MB of 0.000 MB uploaded\\r'), FloatProgress(value=1.0, max=1.0)))",
            "application/vnd.jupyter.widget-view+json": {
              "version_major": 2,
              "version_minor": 0,
              "model_id": ""
            }
          },
          "metadata": {}
        },
        {
          "output_type": "display_data",
          "data": {
            "text/plain": "<IPython.core.display.HTML object>",
            "text/html": "<style>\n    table.wandb td:nth-child(1) { padding: 0 10px; text-align: left ; width: auto;} td:nth-child(2) {text-align: left ; width: 100%}\n    .wandb-row { display: flex; flex-direction: row; flex-wrap: wrap; justify-content: flex-start; width: 100% }\n    .wandb-col { display: flex; flex-direction: column; flex-basis: 100%; flex: 1; padding: 10px; }\n    </style>\n<div class=\"wandb-row\"><div class=\"wandb-col\"><h3>Run history:</h3><br/><table class=\"wandb\"><tr><td>lr/pg0</td><td>▃▆██▇▆▅▃▂▁</td></tr><tr><td>lr/pg1</td><td>▃▆██▇▆▅▃▂▁</td></tr><tr><td>lr/pg2</td><td>▃▆██▇▆▅▃▂▁</td></tr><tr><td>metrics/mAP50(B)</td><td>▁▁▁▁▁▆▇▇██</td></tr><tr><td>metrics/mAP50-95(B)</td><td>▁▁▁▁▁▅▆▇██</td></tr><tr><td>metrics/precision(B)</td><td>▁▁▁▁▁▆▇▇██</td></tr><tr><td>metrics/recall(B)</td><td>▁▁▁▂▂▇▇▇██</td></tr><tr><td>model/GFLOPs</td><td>▁</td></tr><tr><td>model/parameters</td><td>▁</td></tr><tr><td>model/speed_PyTorch(ms)</td><td>▁</td></tr><tr><td>train/box_loss</td><td>███▇▅▄▂▂▂▁</td></tr><tr><td>train/cls_loss</td><td>█▃▂▂▁▁▁▁▁▁</td></tr><tr><td>train/dfl_loss</td><td>▆█▇▇▄▅▂▂▁▁</td></tr><tr><td>val/box_loss</td><td>   █▃▂▂▁▁▁</td></tr><tr><td>val/cls_loss</td><td>     █▃▂▁▁</td></tr><tr><td>val/dfl_loss</td><td>   █▄▁▁▁▁▁</td></tr></table><br/></div><div class=\"wandb-col\"><h3>Run summary:</h3><br/><table class=\"wandb\"><tr><td>lr/pg0</td><td>0.00022</td></tr><tr><td>lr/pg1</td><td>0.00022</td></tr><tr><td>lr/pg2</td><td>0.00022</td></tr><tr><td>metrics/mAP50(B)</td><td>0.8852</td></tr><tr><td>metrics/mAP50-95(B)</td><td>0.49209</td></tr><tr><td>metrics/precision(B)</td><td>0.87513</td></tr><tr><td>metrics/recall(B)</td><td>0.78344</td></tr><tr><td>model/GFLOPs</td><td>282.98</td></tr><tr><td>model/parameters</td><td>103693235</td></tr><tr><td>model/speed_PyTorch(ms)</td><td>16.899</td></tr><tr><td>train/box_loss</td><td>1.6007</td></tr><tr><td>train/cls_loss</td><td>1.12641</td></tr><tr><td>train/dfl_loss</td><td>1.72432</td></tr><tr><td>val/box_loss</td><td>1.48207</td></tr><tr><td>val/cls_loss</td><td>1.02804</td></tr><tr><td>val/dfl_loss</td><td>1.63227</td></tr></table><br/></div></div>"
          },
          "metadata": {}
        },
        {
          "output_type": "display_data",
          "data": {
            "text/plain": "<IPython.core.display.HTML object>",
            "text/html": "You can sync this run to the cloud by running:<br/><code>wandb sync /kaggle/working/wandb/offline-run-20240408_183005-o8jx09hx<code>"
          },
          "metadata": {}
        },
        {
          "output_type": "display_data",
          "data": {
            "text/plain": "<IPython.core.display.HTML object>",
            "text/html": "Find logs at: <code>./wandb/offline-run-20240408_183005-o8jx09hx/logs</code>"
          },
          "metadata": {}
        }
      ]
    },
    {
      "cell_type": "code",
      "source": [
        "# Load a model Yolo5 light instance\n",
        "model2 =   YOLO('yolov5nu.pt')  # load a pretrained model"
      ],
      "metadata": {
        "execution": {
          "iopub.status.busy": "2024-04-08T18:38:51.559771Z",
          "iopub.execute_input": "2024-04-08T18:38:51.56007Z",
          "iopub.status.idle": "2024-04-08T18:38:51.623466Z",
          "shell.execute_reply.started": "2024-04-08T18:38:51.560033Z",
          "shell.execute_reply": "2024-04-08T18:38:51.62229Z"
        },
        "trusted": true,
        "id": "4UZwhWr7RNe7"
      },
      "execution_count": null,
      "outputs": []
    },
    {
      "cell_type": "code",
      "source": [
        "#training of GPU instance for 10 epochs\n",
        "result2 = model2.train(data='/kaggle/working/training/dataset.yaml', epochs=10, imgsz=640, device=[0])"
      ],
      "metadata": {
        "execution": {
          "iopub.status.busy": "2024-04-08T18:38:51.625643Z",
          "iopub.execute_input": "2024-04-08T18:38:51.626149Z",
          "iopub.status.idle": "2024-04-08T18:41:30.454324Z",
          "shell.execute_reply.started": "2024-04-08T18:38:51.626111Z",
          "shell.execute_reply": "2024-04-08T18:41:30.453173Z"
        },
        "trusted": true,
        "colab": {
          "referenced_widgets": [
            ""
          ]
        },
        "id": "2RJgPFsiRNe7",
        "outputId": "47ba8516-49a5-46c6-9d63-87d24fb182fa"
      },
      "execution_count": null,
      "outputs": [
        {
          "name": "stdout",
          "text": "Ultralytics YOLOv8.1.45 🚀 Python-3.10.13 torch-2.1.2 CUDA:0 (Tesla P100-PCIE-16GB, 16276MiB)\n\u001b[34m\u001b[1mengine/trainer: \u001b[0mtask=detect, mode=train, model=yolov5nu.pt, data=/kaggle/working/training/dataset.yaml, epochs=10, time=None, patience=100, batch=16, imgsz=640, save=True, save_period=-1, cache=False, device=[0], workers=8, project=None, name=train8, exist_ok=False, pretrained=True, optimizer=auto, verbose=True, seed=0, deterministic=True, single_cls=False, rect=False, cos_lr=False, close_mosaic=10, resume=False, amp=True, fraction=1.0, profile=False, freeze=None, multi_scale=False, overlap_mask=True, mask_ratio=4, dropout=0.0, val=True, split=val, save_json=False, save_hybrid=False, conf=None, iou=0.7, max_det=300, half=False, dnn=False, plots=True, source=None, vid_stride=1, stream_buffer=False, visualize=False, augment=False, agnostic_nms=False, classes=None, retina_masks=False, embed=None, show=False, save_frames=False, save_txt=False, save_conf=False, save_crop=False, show_labels=True, show_conf=True, show_boxes=True, line_width=None, format=torchscript, keras=False, optimize=False, int8=False, dynamic=False, simplify=False, opset=None, workspace=4, nms=False, lr0=0.01, lrf=0.01, momentum=0.937, weight_decay=0.0005, warmup_epochs=3.0, warmup_momentum=0.8, warmup_bias_lr=0.1, box=7.5, cls=0.5, dfl=1.5, pose=12.0, kobj=1.0, label_smoothing=0.0, nbs=64, hsv_h=0.015, hsv_s=0.7, hsv_v=0.4, degrees=0.0, translate=0.1, scale=0.5, shear=0.0, perspective=0.0, flipud=0.0, fliplr=0.5, bgr=0.0, mosaic=1.0, mixup=0.0, copy_paste=0.0, auto_augment=randaugment, erasing=0.4, crop_fraction=1.0, cfg=None, tracker=botsort.yaml, save_dir=runs/detect/train8\nOverriding model.yaml nc=80 with nc=1\n\n                   from  n    params  module                                       arguments                     \n  0                  -1  1      1760  ultralytics.nn.modules.conv.Conv             [3, 16, 6, 2, 2]              \n  1                  -1  1      4672  ultralytics.nn.modules.conv.Conv             [16, 32, 3, 2]                \n  2                  -1  1      4800  ultralytics.nn.modules.block.C3              [32, 32, 1]                   \n  3                  -1  1     18560  ultralytics.nn.modules.conv.Conv             [32, 64, 3, 2]                \n  4                  -1  2     29184  ultralytics.nn.modules.block.C3              [64, 64, 2]                   \n  5                  -1  1     73984  ultralytics.nn.modules.conv.Conv             [64, 128, 3, 2]               \n  6                  -1  3    156928  ultralytics.nn.modules.block.C3              [128, 128, 3]                 \n  7                  -1  1    295424  ultralytics.nn.modules.conv.Conv             [128, 256, 3, 2]              \n  8                  -1  1    296448  ultralytics.nn.modules.block.C3              [256, 256, 1]                 \n  9                  -1  1    164608  ultralytics.nn.modules.block.SPPF            [256, 256, 5]                 \n 10                  -1  1     33024  ultralytics.nn.modules.conv.Conv             [256, 128, 1, 1]              \n 11                  -1  1         0  torch.nn.modules.upsampling.Upsample         [None, 2, 'nearest']          \n 12             [-1, 6]  1         0  ultralytics.nn.modules.conv.Concat           [1]                           \n 13                  -1  1     90880  ultralytics.nn.modules.block.C3              [256, 128, 1, False]          \n 14                  -1  1      8320  ultralytics.nn.modules.conv.Conv             [128, 64, 1, 1]               \n 15                  -1  1         0  torch.nn.modules.upsampling.Upsample         [None, 2, 'nearest']          \n 16             [-1, 4]  1         0  ultralytics.nn.modules.conv.Concat           [1]                           \n 17                  -1  1     22912  ultralytics.nn.modules.block.C3              [128, 64, 1, False]           \n 18                  -1  1     36992  ultralytics.nn.modules.conv.Conv             [64, 64, 3, 2]                \n 19            [-1, 14]  1         0  ultralytics.nn.modules.conv.Concat           [1]                           \n 20                  -1  1     74496  ultralytics.nn.modules.block.C3              [128, 128, 1, False]          \n 21                  -1  1    147712  ultralytics.nn.modules.conv.Conv             [128, 128, 3, 2]              \n 22            [-1, 10]  1         0  ultralytics.nn.modules.conv.Concat           [1]                           \n 23                  -1  1    296448  ultralytics.nn.modules.block.C3              [256, 256, 1, False]          \n 24        [17, 20, 23]  1    751507  ultralytics.nn.modules.head.Detect           [1, [64, 128, 256]]           \nYOLOv5n summary: 262 layers, 2508659 parameters, 2508643 gradients, 7.2 GFLOPs\n\nTransferred 391/427 items from pretrained weights\n\u001b[34m\u001b[1mTensorBoard: \u001b[0mStart with 'tensorboard --logdir runs/detect/train8', view at http://localhost:6006/\n",
          "output_type": "stream"
        },
        {
          "output_type": "display_data",
          "data": {
            "text/plain": "<IPython.core.display.HTML object>",
            "text/html": "Tracking run with wandb version 0.16.4"
          },
          "metadata": {}
        },
        {
          "output_type": "display_data",
          "data": {
            "text/plain": "<IPython.core.display.HTML object>",
            "text/html": "W&B syncing is set to <code>`offline`<code> in this directory.  <br/>Run <code>`wandb online`<code> or set <code>WANDB_MODE=online<code> to enable cloud syncing."
          },
          "metadata": {}
        },
        {
          "name": "stdout",
          "text": "Freezing layer 'model.24.dfl.conv.weight'\n\u001b[34m\u001b[1mAMP: \u001b[0mrunning Automatic Mixed Precision (AMP) checks with YOLOv8n...\n\u001b[34m\u001b[1mAMP: \u001b[0mchecks passed ✅\n",
          "output_type": "stream"
        },
        {
          "name": "stderr",
          "text": "\u001b[34m\u001b[1mtrain: \u001b[0mScanning /kaggle/working/training/labels.cache... 433 images, 0 backgrounds, 0 corrupt: 100%|██████████| 433/433 [00:00<?, ?it/s]",
          "output_type": "stream"
        },
        {
          "name": "stdout",
          "text": "\u001b[34m\u001b[1malbumentations: \u001b[0mBlur(p=0.01, blur_limit=(3, 7)), MedianBlur(p=0.01, blur_limit=(3, 7)), ToGray(p=0.01), CLAHE(p=0.01, clip_limit=(1, 4.0), tile_grid_size=(8, 8))\n",
          "output_type": "stream"
        },
        {
          "name": "stderr",
          "text": "\n\u001b[34m\u001b[1mval: \u001b[0mScanning /kaggle/working/training/labels.cache... 433 images, 0 backgrounds, 0 corrupt: 100%|██████████| 433/433 [00:00<?, ?it/s]\n",
          "output_type": "stream"
        },
        {
          "name": "stdout",
          "text": "Plotting labels to runs/detect/train8/labels.jpg... \n\u001b[34m\u001b[1moptimizer:\u001b[0m 'optimizer=auto' found, ignoring 'lr0=0.01' and 'momentum=0.937' and determining best 'optimizer', 'lr0' and 'momentum' automatically... \n\u001b[34m\u001b[1moptimizer:\u001b[0m AdamW(lr=0.002, momentum=0.9) with parameter groups 69 weight(decay=0.0), 76 weight(decay=0.0005), 75 bias(decay=0.0)\n\u001b[34m\u001b[1mTensorBoard: \u001b[0mmodel graph visualization added ✅\nImage sizes 640 train, 640 val\nUsing 4 dataloader workers\nLogging results to \u001b[1mruns/detect/train8\u001b[0m\nStarting training for 10 epochs...\nClosing dataloader mosaic\n\u001b[34m\u001b[1malbumentations: \u001b[0mBlur(p=0.01, blur_limit=(3, 7)), MedianBlur(p=0.01, blur_limit=(3, 7)), ToGray(p=0.01), CLAHE(p=0.01, clip_limit=(1, 4.0), tile_grid_size=(8, 8))\n\n      Epoch    GPU_mem   box_loss   cls_loss   dfl_loss  Instances       Size\n",
          "output_type": "stream"
        },
        {
          "name": "stderr",
          "text": "       1/10       4.9G      1.673      3.659      1.481          1        640: 100%|██████████| 28/28 [00:09<00:00,  3.11it/s]\n                 Class     Images  Instances      Box(P          R      mAP50  mAP50-95): 100%|██████████| 14/14 [00:05<00:00,  2.75it/s]",
          "output_type": "stream"
        },
        {
          "name": "stdout",
          "text": "                   all        433        471    0.00324      0.894      0.476      0.255\n",
          "output_type": "stream"
        },
        {
          "name": "stderr",
          "text": "\n",
          "output_type": "stream"
        },
        {
          "name": "stdout",
          "text": "\n      Epoch    GPU_mem   box_loss   cls_loss   dfl_loss  Instances       Size\n",
          "output_type": "stream"
        },
        {
          "name": "stderr",
          "text": "       2/10      4.91G      1.537      2.557       1.33          1        640: 100%|██████████| 28/28 [00:06<00:00,  4.30it/s]\n                 Class     Images  Instances      Box(P          R      mAP50  mAP50-95): 100%|██████████| 14/14 [00:03<00:00,  4.28it/s]\n",
          "output_type": "stream"
        },
        {
          "name": "stdout",
          "text": "                   all        433        471      0.743     0.0492        0.2     0.0967\n\n      Epoch    GPU_mem   box_loss   cls_loss   dfl_loss  Instances       Size\n",
          "output_type": "stream"
        },
        {
          "name": "stderr",
          "text": "       3/10      4.91G       1.57      2.343      1.349          1        640: 100%|██████████| 28/28 [00:05<00:00,  5.19it/s]\n                 Class     Images  Instances      Box(P          R      mAP50  mAP50-95): 100%|██████████| 14/14 [00:03<00:00,  4.41it/s]\n",
          "output_type": "stream"
        },
        {
          "name": "stdout",
          "text": "                   all        433        471      0.762      0.564      0.642      0.318\n\n      Epoch    GPU_mem   box_loss   cls_loss   dfl_loss  Instances       Size\n",
          "output_type": "stream"
        },
        {
          "name": "stderr",
          "text": "       4/10      4.91G      1.538      2.163      1.348          1        640: 100%|██████████| 28/28 [00:05<00:00,  5.26it/s]\n                 Class     Images  Instances      Box(P          R      mAP50  mAP50-95): 100%|██████████| 14/14 [00:03<00:00,  4.50it/s]\n",
          "output_type": "stream"
        },
        {
          "name": "stdout",
          "text": "                   all        433        471      0.647      0.663       0.64      0.325\n\n      Epoch    GPU_mem   box_loss   cls_loss   dfl_loss  Instances       Size\n",
          "output_type": "stream"
        },
        {
          "name": "stderr",
          "text": "       5/10      4.91G      1.543      1.967      1.372          1        640: 100%|██████████| 28/28 [00:05<00:00,  5.01it/s]\n                 Class     Images  Instances      Box(P          R      mAP50  mAP50-95): 100%|██████████| 14/14 [00:02<00:00,  4.83it/s]\n",
          "output_type": "stream"
        },
        {
          "name": "stdout",
          "text": "                   all        433        471      0.513      0.476      0.441      0.228\n\n      Epoch    GPU_mem   box_loss   cls_loss   dfl_loss  Instances       Size\n",
          "output_type": "stream"
        },
        {
          "name": "stderr",
          "text": "       6/10      4.91G      1.439      1.745      1.326          1        640: 100%|██████████| 28/28 [00:05<00:00,  5.28it/s]\n                 Class     Images  Instances      Box(P          R      mAP50  mAP50-95): 100%|██████████| 14/14 [00:02<00:00,  4.89it/s]\n",
          "output_type": "stream"
        },
        {
          "name": "stdout",
          "text": "                   all        433        471      0.715      0.762      0.779      0.432\n\n      Epoch    GPU_mem   box_loss   cls_loss   dfl_loss  Instances       Size\n",
          "output_type": "stream"
        },
        {
          "name": "stderr",
          "text": "       7/10      4.91G      1.487       1.64       1.28          1        640: 100%|██████████| 28/28 [00:05<00:00,  5.31it/s]\n                 Class     Images  Instances      Box(P          R      mAP50  mAP50-95): 100%|██████████| 14/14 [00:02<00:00,  4.95it/s]\n",
          "output_type": "stream"
        },
        {
          "name": "stdout",
          "text": "                   all        433        471      0.851      0.783       0.85      0.491\n\n      Epoch    GPU_mem   box_loss   cls_loss   dfl_loss  Instances       Size\n",
          "output_type": "stream"
        },
        {
          "name": "stderr",
          "text": "       8/10      4.91G      1.373      1.468      1.225          1        640: 100%|██████████| 28/28 [00:05<00:00,  5.03it/s]\n                 Class     Images  Instances      Box(P          R      mAP50  mAP50-95): 100%|██████████| 14/14 [00:03<00:00,  4.62it/s]\n",
          "output_type": "stream"
        },
        {
          "name": "stdout",
          "text": "                   all        433        471      0.837      0.862       0.91      0.551\n\n      Epoch    GPU_mem   box_loss   cls_loss   dfl_loss  Instances       Size\n",
          "output_type": "stream"
        },
        {
          "name": "stderr",
          "text": "       9/10      4.88G       1.36      1.341      1.237          1        640: 100%|██████████| 28/28 [00:05<00:00,  5.24it/s]\n                 Class     Images  Instances      Box(P          R      mAP50  mAP50-95): 100%|██████████| 14/14 [00:02<00:00,  4.89it/s]\n",
          "output_type": "stream"
        },
        {
          "name": "stdout",
          "text": "                   all        433        471      0.895      0.896      0.935      0.566\n\n      Epoch    GPU_mem   box_loss   cls_loss   dfl_loss  Instances       Size\n",
          "output_type": "stream"
        },
        {
          "name": "stderr",
          "text": "      10/10      4.88G      1.312      1.266      1.178          1        640: 100%|██████████| 28/28 [00:05<00:00,  5.27it/s]\n                 Class     Images  Instances      Box(P          R      mAP50  mAP50-95): 100%|██████████| 14/14 [00:02<00:00,  5.00it/s]\n",
          "output_type": "stream"
        },
        {
          "name": "stdout",
          "text": "                   all        433        471      0.902       0.89       0.94      0.589\n\n10 epochs completed in 0.029 hours.\nOptimizer stripped from runs/detect/train8/weights/last.pt, 5.3MB\nOptimizer stripped from runs/detect/train8/weights/best.pt, 5.3MB\n\nValidating runs/detect/train8/weights/best.pt...\nUltralytics YOLOv8.1.45 🚀 Python-3.10.13 torch-2.1.2 CUDA:0 (Tesla P100-PCIE-16GB, 16276MiB)\nYOLOv5n summary (fused): 193 layers, 2503139 parameters, 0 gradients, 7.1 GFLOPs\n",
          "output_type": "stream"
        },
        {
          "name": "stderr",
          "text": "                 Class     Images  Instances      Box(P          R      mAP50  mAP50-95): 100%|██████████| 14/14 [00:04<00:00,  3.29it/s]\n",
          "output_type": "stream"
        },
        {
          "name": "stdout",
          "text": "                   all        433        471      0.899      0.887       0.94      0.588\nSpeed: 0.1ms preprocess, 1.4ms inference, 0.0ms loss, 1.5ms postprocess per image\nResults saved to \u001b[1mruns/detect/train8\u001b[0m\n",
          "output_type": "stream"
        },
        {
          "output_type": "display_data",
          "data": {
            "text/plain": "VBox(children=(Label(value='0.000 MB of 0.000 MB uploaded\\r'), FloatProgress(value=1.0, max=1.0)))",
            "application/vnd.jupyter.widget-view+json": {
              "version_major": 2,
              "version_minor": 0,
              "model_id": ""
            }
          },
          "metadata": {}
        },
        {
          "output_type": "display_data",
          "data": {
            "text/plain": "<IPython.core.display.HTML object>",
            "text/html": "<style>\n    table.wandb td:nth-child(1) { padding: 0 10px; text-align: left ; width: auto;} td:nth-child(2) {text-align: left ; width: 100%}\n    .wandb-row { display: flex; flex-direction: row; flex-wrap: wrap; justify-content: flex-start; width: 100% }\n    .wandb-col { display: flex; flex-direction: column; flex-basis: 100%; flex: 1; padding: 10px; }\n    </style>\n<div class=\"wandb-row\"><div class=\"wandb-col\"><h3>Run history:</h3><br/><table class=\"wandb\"><tr><td>lr/pg0</td><td>▃▆██▇▆▅▃▂▁</td></tr><tr><td>lr/pg1</td><td>▃▆██▇▆▅▃▂▁</td></tr><tr><td>lr/pg2</td><td>▃▆██▇▆▅▃▂▁</td></tr><tr><td>metrics/mAP50(B)</td><td>▄▁▅▅▃▆▇███</td></tr><tr><td>metrics/mAP50-95(B)</td><td>▃▁▄▄▃▆▇▇██</td></tr><tr><td>metrics/precision(B)</td><td>▁▇▇▆▅▇████</td></tr><tr><td>metrics/recall(B)</td><td>█▁▅▆▅▇▇███</td></tr><tr><td>model/GFLOPs</td><td>▁</td></tr><tr><td>model/parameters</td><td>▁</td></tr><tr><td>model/speed_PyTorch(ms)</td><td>▁</td></tr><tr><td>train/box_loss</td><td>█▅▆▅▅▃▄▂▂▁</td></tr><tr><td>train/cls_loss</td><td>█▅▄▄▃▂▂▂▁▁</td></tr><tr><td>train/dfl_loss</td><td>█▅▅▅▅▄▃▂▂▁</td></tr><tr><td>val/box_loss</td><td>▄▆██▆▅▅▂▁▁</td></tr><tr><td>val/cls_loss</td><td>██▅▄▅▂▂▁▁▁</td></tr><tr><td>val/dfl_loss</td><td>▁▇██▇▆▅▃▂▁</td></tr></table><br/></div><div class=\"wandb-col\"><h3>Run summary:</h3><br/><table class=\"wandb\"><tr><td>lr/pg0</td><td>0.00022</td></tr><tr><td>lr/pg1</td><td>0.00022</td></tr><tr><td>lr/pg2</td><td>0.00022</td></tr><tr><td>metrics/mAP50(B)</td><td>0.94026</td></tr><tr><td>metrics/mAP50-95(B)</td><td>0.58821</td></tr><tr><td>metrics/precision(B)</td><td>0.89875</td></tr><tr><td>metrics/recall(B)</td><td>0.88747</td></tr><tr><td>model/GFLOPs</td><td>7.177</td></tr><tr><td>model/parameters</td><td>2508659</td></tr><tr><td>model/speed_PyTorch(ms)</td><td>3.102</td></tr><tr><td>train/box_loss</td><td>1.31236</td></tr><tr><td>train/cls_loss</td><td>1.26624</td></tr><tr><td>train/dfl_loss</td><td>1.17758</td></tr><tr><td>val/box_loss</td><td>1.26035</td></tr><tr><td>val/cls_loss</td><td>1.0187</td></tr><tr><td>val/dfl_loss</td><td>1.16</td></tr></table><br/></div></div>"
          },
          "metadata": {}
        },
        {
          "output_type": "display_data",
          "data": {
            "text/plain": "<IPython.core.display.HTML object>",
            "text/html": "You can sync this run to the cloud by running:<br/><code>wandb sync /kaggle/working/wandb/offline-run-20240408_183852-weddjtec<code>"
          },
          "metadata": {}
        },
        {
          "output_type": "display_data",
          "data": {
            "text/plain": "<IPython.core.display.HTML object>",
            "text/html": "Find logs at: <code>./wandb/offline-run-20240408_183852-weddjtec/logs</code>"
          },
          "metadata": {}
        }
      ]
    },
    {
      "cell_type": "code",
      "source": [
        "# Load a model yolo8 small pretained instance\n",
        "model3 =   YOLO('yolov8s.pt')  # load a pretrained model"
      ],
      "metadata": {
        "execution": {
          "iopub.status.busy": "2024-04-08T18:41:30.456046Z",
          "iopub.execute_input": "2024-04-08T18:41:30.456379Z",
          "iopub.status.idle": "2024-04-08T18:41:30.519651Z",
          "shell.execute_reply.started": "2024-04-08T18:41:30.456343Z",
          "shell.execute_reply": "2024-04-08T18:41:30.518763Z"
        },
        "trusted": true,
        "id": "bg_NIUcRRNe8"
      },
      "execution_count": null,
      "outputs": []
    },
    {
      "cell_type": "code",
      "source": [
        "#running on GPU for 10 epochs\n",
        "result3 = model3.train(data='/kaggle/working/training/dataset.yaml', epochs=10, imgsz=640, device=[0])"
      ],
      "metadata": {
        "execution": {
          "iopub.status.busy": "2024-04-08T18:41:30.520846Z",
          "iopub.execute_input": "2024-04-08T18:41:30.521109Z",
          "iopub.status.idle": "2024-04-08T18:44:39.532341Z",
          "shell.execute_reply.started": "2024-04-08T18:41:30.521087Z",
          "shell.execute_reply": "2024-04-08T18:44:39.531154Z"
        },
        "trusted": true,
        "colab": {
          "referenced_widgets": [
            ""
          ]
        },
        "id": "qCKBKIcCRNe8",
        "outputId": "de725424-c8d9-4ca3-98b1-39ca3d002c15"
      },
      "execution_count": null,
      "outputs": [
        {
          "name": "stdout",
          "text": "Ultralytics YOLOv8.1.45 🚀 Python-3.10.13 torch-2.1.2 CUDA:0 (Tesla P100-PCIE-16GB, 16276MiB)\n\u001b[34m\u001b[1mengine/trainer: \u001b[0mtask=detect, mode=train, model=yolov8s.pt, data=/kaggle/working/training/dataset.yaml, epochs=10, time=None, patience=100, batch=16, imgsz=640, save=True, save_period=-1, cache=False, device=[0], workers=8, project=None, name=train9, exist_ok=False, pretrained=True, optimizer=auto, verbose=True, seed=0, deterministic=True, single_cls=False, rect=False, cos_lr=False, close_mosaic=10, resume=False, amp=True, fraction=1.0, profile=False, freeze=None, multi_scale=False, overlap_mask=True, mask_ratio=4, dropout=0.0, val=True, split=val, save_json=False, save_hybrid=False, conf=None, iou=0.7, max_det=300, half=False, dnn=False, plots=True, source=None, vid_stride=1, stream_buffer=False, visualize=False, augment=False, agnostic_nms=False, classes=None, retina_masks=False, embed=None, show=False, save_frames=False, save_txt=False, save_conf=False, save_crop=False, show_labels=True, show_conf=True, show_boxes=True, line_width=None, format=torchscript, keras=False, optimize=False, int8=False, dynamic=False, simplify=False, opset=None, workspace=4, nms=False, lr0=0.01, lrf=0.01, momentum=0.937, weight_decay=0.0005, warmup_epochs=3.0, warmup_momentum=0.8, warmup_bias_lr=0.1, box=7.5, cls=0.5, dfl=1.5, pose=12.0, kobj=1.0, label_smoothing=0.0, nbs=64, hsv_h=0.015, hsv_s=0.7, hsv_v=0.4, degrees=0.0, translate=0.1, scale=0.5, shear=0.0, perspective=0.0, flipud=0.0, fliplr=0.5, bgr=0.0, mosaic=1.0, mixup=0.0, copy_paste=0.0, auto_augment=randaugment, erasing=0.4, crop_fraction=1.0, cfg=None, tracker=botsort.yaml, save_dir=runs/detect/train9\nOverriding model.yaml nc=80 with nc=1\n\n                   from  n    params  module                                       arguments                     \n  0                  -1  1       928  ultralytics.nn.modules.conv.Conv             [3, 32, 3, 2]                 \n  1                  -1  1     18560  ultralytics.nn.modules.conv.Conv             [32, 64, 3, 2]                \n  2                  -1  1     29056  ultralytics.nn.modules.block.C2f             [64, 64, 1, True]             \n  3                  -1  1     73984  ultralytics.nn.modules.conv.Conv             [64, 128, 3, 2]               \n  4                  -1  2    197632  ultralytics.nn.modules.block.C2f             [128, 128, 2, True]           \n  5                  -1  1    295424  ultralytics.nn.modules.conv.Conv             [128, 256, 3, 2]              \n  6                  -1  2    788480  ultralytics.nn.modules.block.C2f             [256, 256, 2, True]           \n  7                  -1  1   1180672  ultralytics.nn.modules.conv.Conv             [256, 512, 3, 2]              \n  8                  -1  1   1838080  ultralytics.nn.modules.block.C2f             [512, 512, 1, True]           \n  9                  -1  1    656896  ultralytics.nn.modules.block.SPPF            [512, 512, 5]                 \n 10                  -1  1         0  torch.nn.modules.upsampling.Upsample         [None, 2, 'nearest']          \n 11             [-1, 6]  1         0  ultralytics.nn.modules.conv.Concat           [1]                           \n 12                  -1  1    591360  ultralytics.nn.modules.block.C2f             [768, 256, 1]                 \n 13                  -1  1         0  torch.nn.modules.upsampling.Upsample         [None, 2, 'nearest']          \n 14             [-1, 4]  1         0  ultralytics.nn.modules.conv.Concat           [1]                           \n 15                  -1  1    148224  ultralytics.nn.modules.block.C2f             [384, 128, 1]                 \n 16                  -1  1    147712  ultralytics.nn.modules.conv.Conv             [128, 128, 3, 2]              \n 17            [-1, 12]  1         0  ultralytics.nn.modules.conv.Concat           [1]                           \n 18                  -1  1    493056  ultralytics.nn.modules.block.C2f             [384, 256, 1]                 \n 19                  -1  1    590336  ultralytics.nn.modules.conv.Conv             [256, 256, 3, 2]              \n 20             [-1, 9]  1         0  ultralytics.nn.modules.conv.Concat           [1]                           \n 21                  -1  1   1969152  ultralytics.nn.modules.block.C2f             [768, 512, 1]                 \n 22        [15, 18, 21]  1   2116435  ultralytics.nn.modules.head.Detect           [1, [128, 256, 512]]          \nModel summary: 225 layers, 11135987 parameters, 11135971 gradients, 28.6 GFLOPs\n\nTransferred 349/355 items from pretrained weights\n\u001b[34m\u001b[1mTensorBoard: \u001b[0mStart with 'tensorboard --logdir runs/detect/train9', view at http://localhost:6006/\n",
          "output_type": "stream"
        },
        {
          "output_type": "display_data",
          "data": {
            "text/plain": "<IPython.core.display.HTML object>",
            "text/html": "Tracking run with wandb version 0.16.4"
          },
          "metadata": {}
        },
        {
          "output_type": "display_data",
          "data": {
            "text/plain": "<IPython.core.display.HTML object>",
            "text/html": "W&B syncing is set to <code>`offline`<code> in this directory.  <br/>Run <code>`wandb online`<code> or set <code>WANDB_MODE=online<code> to enable cloud syncing."
          },
          "metadata": {}
        },
        {
          "name": "stdout",
          "text": "Freezing layer 'model.22.dfl.conv.weight'\n\u001b[34m\u001b[1mAMP: \u001b[0mrunning Automatic Mixed Precision (AMP) checks with YOLOv8n...\n\u001b[34m\u001b[1mAMP: \u001b[0mchecks passed ✅\n",
          "output_type": "stream"
        },
        {
          "name": "stderr",
          "text": "\u001b[34m\u001b[1mtrain: \u001b[0mScanning /kaggle/working/training/labels.cache... 433 images, 0 backgrounds, 0 corrupt: 100%|██████████| 433/433 [00:00<?, ?it/s]",
          "output_type": "stream"
        },
        {
          "name": "stdout",
          "text": "\u001b[34m\u001b[1malbumentations: \u001b[0mBlur(p=0.01, blur_limit=(3, 7)), MedianBlur(p=0.01, blur_limit=(3, 7)), ToGray(p=0.01), CLAHE(p=0.01, clip_limit=(1, 4.0), tile_grid_size=(8, 8))\n",
          "output_type": "stream"
        },
        {
          "name": "stderr",
          "text": "\n\u001b[34m\u001b[1mval: \u001b[0mScanning /kaggle/working/training/labels.cache... 433 images, 0 backgrounds, 0 corrupt: 100%|██████████| 433/433 [00:00<?, ?it/s]\n",
          "output_type": "stream"
        },
        {
          "name": "stdout",
          "text": "Plotting labels to runs/detect/train9/labels.jpg... \n\u001b[34m\u001b[1moptimizer:\u001b[0m 'optimizer=auto' found, ignoring 'lr0=0.01' and 'momentum=0.937' and determining best 'optimizer', 'lr0' and 'momentum' automatically... \n\u001b[34m\u001b[1moptimizer:\u001b[0m AdamW(lr=0.002, momentum=0.9) with parameter groups 57 weight(decay=0.0), 64 weight(decay=0.0005), 63 bias(decay=0.0)\n\u001b[34m\u001b[1mTensorBoard: \u001b[0mmodel graph visualization added ✅\nImage sizes 640 train, 640 val\nUsing 4 dataloader workers\nLogging results to \u001b[1mruns/detect/train9\u001b[0m\nStarting training for 10 epochs...\nClosing dataloader mosaic\n\u001b[34m\u001b[1malbumentations: \u001b[0mBlur(p=0.01, blur_limit=(3, 7)), MedianBlur(p=0.01, blur_limit=(3, 7)), ToGray(p=0.01), CLAHE(p=0.01, clip_limit=(1, 4.0), tile_grid_size=(8, 8))\n\n      Epoch    GPU_mem   box_loss   cls_loss   dfl_loss  Instances       Size\n",
          "output_type": "stream"
        },
        {
          "name": "stderr",
          "text": "       1/10      6.01G      1.779      8.331      1.492          1        640: 100%|██████████| 28/28 [00:10<00:00,  2.57it/s]\n                 Class     Images  Instances      Box(P          R      mAP50  mAP50-95): 100%|██████████| 14/14 [00:05<00:00,  2.76it/s]\n",
          "output_type": "stream"
        },
        {
          "name": "stdout",
          "text": "                   all        433        471      0.261      0.548      0.188      0.107\n\n      Epoch    GPU_mem   box_loss   cls_loss   dfl_loss  Instances       Size\n",
          "output_type": "stream"
        },
        {
          "name": "stderr",
          "text": "       2/10      5.79G      1.593       1.78      1.382          1        640: 100%|██████████| 28/28 [00:08<00:00,  3.35it/s]\n                 Class     Images  Instances      Box(P          R      mAP50  mAP50-95): 100%|██████████| 14/14 [00:03<00:00,  4.11it/s]\n",
          "output_type": "stream"
        },
        {
          "name": "stdout",
          "text": "                   all        433        471      0.188      0.408      0.171      0.075\n\n      Epoch    GPU_mem   box_loss   cls_loss   dfl_loss  Instances       Size\n",
          "output_type": "stream"
        },
        {
          "name": "stderr",
          "text": "       3/10      5.79G      1.732      1.602      1.579          1        640: 100%|██████████| 28/28 [00:08<00:00,  3.40it/s]\n                 Class     Images  Instances      Box(P          R      mAP50  mAP50-95): 100%|██████████| 14/14 [00:03<00:00,  4.13it/s]\n",
          "output_type": "stream"
        },
        {
          "name": "stdout",
          "text": "                   all        433        471      0.105      0.575     0.0874     0.0394\n\n      Epoch    GPU_mem   box_loss   cls_loss   dfl_loss  Instances       Size\n",
          "output_type": "stream"
        },
        {
          "name": "stderr",
          "text": "       4/10      5.79G      1.732      1.333      1.484          1        640: 100%|██████████| 28/28 [00:08<00:00,  3.39it/s]\n                 Class     Images  Instances      Box(P          R      mAP50  mAP50-95): 100%|██████████| 14/14 [00:03<00:00,  4.27it/s]\n",
          "output_type": "stream"
        },
        {
          "name": "stdout",
          "text": "                   all        433        471      0.575      0.363       0.39      0.175\n\n      Epoch    GPU_mem   box_loss   cls_loss   dfl_loss  Instances       Size\n",
          "output_type": "stream"
        },
        {
          "name": "stderr",
          "text": "       5/10      5.79G      1.596      1.148      1.398          1        640: 100%|██████████| 28/28 [00:08<00:00,  3.44it/s]\n                 Class     Images  Instances      Box(P          R      mAP50  mAP50-95): 100%|██████████| 14/14 [00:03<00:00,  4.24it/s]\n",
          "output_type": "stream"
        },
        {
          "name": "stdout",
          "text": "                   all        433        471      0.402      0.548      0.354      0.159\n\n      Epoch    GPU_mem   box_loss   cls_loss   dfl_loss  Instances       Size\n",
          "output_type": "stream"
        },
        {
          "name": "stderr",
          "text": "       6/10      5.79G      1.573      1.138      1.401          1        640: 100%|██████████| 28/28 [00:08<00:00,  3.43it/s]\n                 Class     Images  Instances      Box(P          R      mAP50  mAP50-95): 100%|██████████| 14/14 [00:03<00:00,  3.94it/s]",
          "output_type": "stream"
        },
        {
          "name": "stdout",
          "text": "                   all        433        471      0.696      0.685      0.719      0.397\n",
          "output_type": "stream"
        },
        {
          "name": "stderr",
          "text": "\n",
          "output_type": "stream"
        },
        {
          "name": "stdout",
          "text": "\n      Epoch    GPU_mem   box_loss   cls_loss   dfl_loss  Instances       Size\n",
          "output_type": "stream"
        },
        {
          "name": "stderr",
          "text": "       7/10      5.74G      1.534      1.082      1.318          1        640: 100%|██████████| 28/28 [00:08<00:00,  3.44it/s]\n                 Class     Images  Instances      Box(P          R      mAP50  mAP50-95): 100%|██████████| 14/14 [00:03<00:00,  4.19it/s]",
          "output_type": "stream"
        },
        {
          "name": "stdout",
          "text": "                   all        433        471      0.852      0.803      0.879      0.507\n",
          "output_type": "stream"
        },
        {
          "name": "stderr",
          "text": "\n",
          "output_type": "stream"
        },
        {
          "name": "stdout",
          "text": "\n      Epoch    GPU_mem   box_loss   cls_loss   dfl_loss  Instances       Size\n",
          "output_type": "stream"
        },
        {
          "name": "stderr",
          "text": "       8/10      5.73G      1.548     0.9826      1.327          1        640: 100%|██████████| 28/28 [00:08<00:00,  3.45it/s]\n                 Class     Images  Instances      Box(P          R      mAP50  mAP50-95): 100%|██████████| 14/14 [00:03<00:00,  4.20it/s]",
          "output_type": "stream"
        },
        {
          "name": "stdout",
          "text": "                   all        433        471      0.931      0.799      0.911      0.511\n",
          "output_type": "stream"
        },
        {
          "name": "stderr",
          "text": "\n",
          "output_type": "stream"
        },
        {
          "name": "stdout",
          "text": "\n      Epoch    GPU_mem   box_loss   cls_loss   dfl_loss  Instances       Size\n",
          "output_type": "stream"
        },
        {
          "name": "stderr",
          "text": "       9/10      5.73G      1.409     0.9241      1.299          1        640: 100%|██████████| 28/28 [00:08<00:00,  3.41it/s]\n                 Class     Images  Instances      Box(P          R      mAP50  mAP50-95): 100%|██████████| 14/14 [00:03<00:00,  4.25it/s]",
          "output_type": "stream"
        },
        {
          "name": "stdout",
          "text": "                   all        433        471      0.889      0.889      0.934      0.547\n",
          "output_type": "stream"
        },
        {
          "name": "stderr",
          "text": "\n",
          "output_type": "stream"
        },
        {
          "name": "stdout",
          "text": "\n      Epoch    GPU_mem   box_loss   cls_loss   dfl_loss  Instances       Size\n",
          "output_type": "stream"
        },
        {
          "name": "stderr",
          "text": "      10/10      5.73G      1.372     0.8502      1.262          1        640: 100%|██████████| 28/28 [00:08<00:00,  3.44it/s]\n                 Class     Images  Instances      Box(P          R      mAP50  mAP50-95): 100%|██████████| 14/14 [00:03<00:00,  4.24it/s]",
          "output_type": "stream"
        },
        {
          "name": "stdout",
          "text": "                   all        433        471      0.894      0.878      0.936       0.57\n",
          "output_type": "stream"
        },
        {
          "name": "stderr",
          "text": "\n",
          "output_type": "stream"
        },
        {
          "name": "stdout",
          "text": "\n10 epochs completed in 0.037 hours.\nOptimizer stripped from runs/detect/train9/weights/last.pt, 22.5MB\nOptimizer stripped from runs/detect/train9/weights/best.pt, 22.5MB\n\nValidating runs/detect/train9/weights/best.pt...\nUltralytics YOLOv8.1.45 🚀 Python-3.10.13 torch-2.1.2 CUDA:0 (Tesla P100-PCIE-16GB, 16276MiB)\nModel summary (fused): 168 layers, 11125971 parameters, 0 gradients, 28.4 GFLOPs\n",
          "output_type": "stream"
        },
        {
          "name": "stderr",
          "text": "                 Class     Images  Instances      Box(P          R      mAP50  mAP50-95): 100%|██████████| 14/14 [00:04<00:00,  2.86it/s]\n",
          "output_type": "stream"
        },
        {
          "name": "stdout",
          "text": "                   all        433        471      0.896      0.876      0.936      0.571\nSpeed: 0.3ms preprocess, 3.5ms inference, 0.0ms loss, 1.5ms postprocess per image\nResults saved to \u001b[1mruns/detect/train9\u001b[0m\n",
          "output_type": "stream"
        },
        {
          "output_type": "display_data",
          "data": {
            "text/plain": "VBox(children=(Label(value='0.000 MB of 0.000 MB uploaded\\r'), FloatProgress(value=1.0, max=1.0)))",
            "application/vnd.jupyter.widget-view+json": {
              "version_major": 2,
              "version_minor": 0,
              "model_id": ""
            }
          },
          "metadata": {}
        },
        {
          "output_type": "display_data",
          "data": {
            "text/plain": "<IPython.core.display.HTML object>",
            "text/html": "<style>\n    table.wandb td:nth-child(1) { padding: 0 10px; text-align: left ; width: auto;} td:nth-child(2) {text-align: left ; width: 100%}\n    .wandb-row { display: flex; flex-direction: row; flex-wrap: wrap; justify-content: flex-start; width: 100% }\n    .wandb-col { display: flex; flex-direction: column; flex-basis: 100%; flex: 1; padding: 10px; }\n    </style>\n<div class=\"wandb-row\"><div class=\"wandb-col\"><h3>Run history:</h3><br/><table class=\"wandb\"><tr><td>lr/pg0</td><td>▃▆██▇▆▅▃▂▁</td></tr><tr><td>lr/pg1</td><td>▃▆██▇▆▅▃▂▁</td></tr><tr><td>lr/pg2</td><td>▃▆██▇▆▅▃▂▁</td></tr><tr><td>metrics/mAP50(B)</td><td>▂▂▁▃▃▆████</td></tr><tr><td>metrics/mAP50-95(B)</td><td>▂▁▁▃▃▆▇▇██</td></tr><tr><td>metrics/precision(B)</td><td>▂▂▁▅▄▆▇███</td></tr><tr><td>metrics/recall(B)</td><td>▃▂▄▁▃▅▇▇██</td></tr><tr><td>model/GFLOPs</td><td>▁</td></tr><tr><td>model/parameters</td><td>▁</td></tr><tr><td>model/speed_PyTorch(ms)</td><td>▁</td></tr><tr><td>train/box_loss</td><td>█▅▇▇▅▄▄▄▂▁</td></tr><tr><td>train/cls_loss</td><td>█▂▂▁▁▁▁▁▁▁</td></tr><tr><td>train/dfl_loss</td><td>▆▄█▆▄▄▂▂▂▁</td></tr><tr><td>val/box_loss</td><td>▃▆▆█▆▃▂▂▁▁</td></tr><tr><td>val/cls_loss</td><td>▃▂█▂▂▁▁▁▁▁</td></tr><tr><td>val/dfl_loss</td><td>▂▆██▅▃▂▂▁▁</td></tr></table><br/></div><div class=\"wandb-col\"><h3>Run summary:</h3><br/><table class=\"wandb\"><tr><td>lr/pg0</td><td>0.00022</td></tr><tr><td>lr/pg1</td><td>0.00022</td></tr><tr><td>lr/pg2</td><td>0.00022</td></tr><tr><td>metrics/mAP50(B)</td><td>0.93617</td></tr><tr><td>metrics/mAP50-95(B)</td><td>0.57056</td></tr><tr><td>metrics/precision(B)</td><td>0.89578</td></tr><tr><td>metrics/recall(B)</td><td>0.87596</td></tr><tr><td>model/GFLOPs</td><td>28.647</td></tr><tr><td>model/parameters</td><td>11135987</td></tr><tr><td>model/speed_PyTorch(ms)</td><td>4.023</td></tr><tr><td>train/box_loss</td><td>1.37248</td></tr><tr><td>train/cls_loss</td><td>0.85017</td></tr><tr><td>train/dfl_loss</td><td>1.26234</td></tr><tr><td>val/box_loss</td><td>1.29064</td></tr><tr><td>val/cls_loss</td><td>0.77462</td></tr><tr><td>val/dfl_loss</td><td>1.20558</td></tr></table><br/></div></div>"
          },
          "metadata": {}
        },
        {
          "output_type": "display_data",
          "data": {
            "text/plain": "<IPython.core.display.HTML object>",
            "text/html": "You can sync this run to the cloud by running:<br/><code>wandb sync /kaggle/working/wandb/offline-run-20240408_184130-jx3mwr4r<code>"
          },
          "metadata": {}
        },
        {
          "output_type": "display_data",
          "data": {
            "text/plain": "<IPython.core.display.HTML object>",
            "text/html": "Find logs at: <code>./wandb/offline-run-20240408_184130-jx3mwr4r/logs</code>"
          },
          "metadata": {}
        }
      ]
    },
    {
      "cell_type": "code",
      "source": [],
      "metadata": {
        "id": "aNOl7OUhRNe8"
      },
      "execution_count": null,
      "outputs": []
    }
  ]
}